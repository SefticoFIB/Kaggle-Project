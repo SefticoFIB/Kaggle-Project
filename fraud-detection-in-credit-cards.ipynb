{
 "cells": [
  {
   "cell_type": "markdown",
   "id": "15068cf8",
   "metadata": {
    "papermill": {
     "duration": 0.012873,
     "end_time": "2024-07-03T09:30:36.153969",
     "exception": false,
     "start_time": "2024-07-03T09:30:36.141096",
     "status": "completed"
    },
    "tags": []
   },
   "source": [
    "# Credit Card Fraud Detection\n",
    "This is a project that utilize Kaggle dataset: Credit Card Transactions to construct a machine learning model for fraudulent transaction detection.\n",
    "\n",
    "## Project overview\n",
    "In this project, I will construct fraud detection models base on the following steps:\n",
    "1. Data cleaning: remove records with transaction amount < 0 \n",
    "2. Data combination: combine files with user and credit card information with the transaction record data\n",
    "3. Feature engineering: create feautures that might be useful for model classification\n",
    "4. Downsampling: since the data is extremely imbalanced (≈0.1% of fraudulent transaction) and the transaction data is large, downsampling can be useful to create model with better performance and obtaining important features\n",
    "5. Model construction: considering model efficiency and accuracy, I construct Logistic Regression, XGBoost, and Gradient Boosting Classifier.\n",
    "6. Visualizing the results\n",
    "\n",
    "## Data Introduction\n",
    "The datasets consists of three .csv files\n",
    "* Credit Card Transaction: >20 million record of credit card transaction records\n",
    "* Users: Some information about the simulated people, including gender, age, income, etc.\n",
    "* Card: Some information about the simlated credit cards\n",
    "\n",
    "For more about the dataset, please check: https://www.kaggle.com/datasets/ealtman2019/credit-card-transactions\n",
    "\n",
    "## Environment Setup"
   ]
  },
  {
   "cell_type": "code",
   "execution_count": 1,
   "id": "8a5da49c",
   "metadata": {
    "_cell_guid": "b1076dfc-b9ad-4769-8c92-a6c4dae69d19",
    "_uuid": "8f2839f25d086af736a60e9eeb907d3b93b6e0e5",
    "execution": {
     "iopub.execute_input": "2024-07-03T09:30:36.181238Z",
     "iopub.status.busy": "2024-07-03T09:30:36.180827Z",
     "iopub.status.idle": "2024-07-03T09:30:46.055490Z",
     "shell.execute_reply": "2024-07-03T09:30:46.054254Z"
    },
    "papermill": {
     "duration": 9.891697,
     "end_time": "2024-07-03T09:30:46.058389",
     "exception": false,
     "start_time": "2024-07-03T09:30:36.166692",
     "status": "completed"
    },
    "tags": []
   },
   "outputs": [],
   "source": [
    "## Import packages\n",
    "import gc\n",
    "import warnings\n",
    "import numpy as np \n",
    "import pandas as pd \n",
    "import lightgbm as lgb\n",
    "import multiprocessing as mp \n",
    "warnings.filterwarnings('ignore')\n",
    "from sklearn.pipeline import Pipeline\n",
    "from sklearn.impute import SimpleImputer\n",
    "from ydata_profiling import ProfileReport\n",
    "from sklearn.compose import ColumnTransformer\n",
    "from sklearn.preprocessing import FunctionTransformer\n",
    "from sklearn.metrics import confusion_matrix\n",
    "from sklearn.preprocessing import LabelEncoder\n",
    "from sklearn.preprocessing import StandardScaler\n",
    "from sklearn.metrics import classification_report\n",
    "from sklearn.model_selection import train_test_split\n",
    "from sklearn.preprocessing import FunctionTransformer, LabelEncoder, OneHotEncoder\n",
    "from category_encoders.binary import BinaryEncoder\n",
    "from imblearn.under_sampling import RandomUnderSampler\n",
    "from imblearn.pipeline import Pipeline as imbpipeline \n",
    "import matplotlib.pyplot as plt"
   ]
  },
  {
   "cell_type": "code",
   "execution_count": 2,
   "id": "e48333ce",
   "metadata": {
    "execution": {
     "iopub.execute_input": "2024-07-03T09:30:46.085938Z",
     "iopub.status.busy": "2024-07-03T09:30:46.085198Z",
     "iopub.status.idle": "2024-07-03T09:32:11.907042Z",
     "shell.execute_reply": "2024-07-03T09:32:11.905861Z"
    },
    "papermill": {
     "duration": 85.838449,
     "end_time": "2024-07-03T09:32:11.909780",
     "exception": false,
     "start_time": "2024-07-03T09:30:46.071331",
     "status": "completed"
    },
    "tags": []
   },
   "outputs": [],
   "source": [
    "## Import datasets from Kaggle\n",
    "df = pd.read_csv('/kaggle/input/credit-card-transactions/credit_card_transactions-ibm_v2.csv')\n",
    "user = pd.read_csv('/kaggle/input/credit-card-transactions/sd254_users.csv')\n",
    "card = pd.read_csv('/kaggle/input/credit-card-transactions/sd254_cards.csv')"
   ]
  },
  {
   "cell_type": "markdown",
   "id": "7182e54d",
   "metadata": {
    "papermill": {
     "duration": 0.012741,
     "end_time": "2024-07-03T09:32:11.935194",
     "exception": false,
     "start_time": "2024-07-03T09:32:11.922453",
     "status": "completed"
    },
    "tags": []
   },
   "source": [
    "## Data Processing\n",
    "In this section, I will clean and create features within the three different files"
   ]
  },
  {
   "cell_type": "markdown",
   "id": "4bbd1dbf",
   "metadata": {
    "papermill": {
     "duration": 0.012082,
     "end_time": "2024-07-03T09:32:11.959745",
     "exception": false,
     "start_time": "2024-07-03T09:32:11.947663",
     "status": "completed"
    },
    "tags": []
   },
   "source": [
    "### User Information\n",
    "* Create user id \"User\"\n",
    "* Remove the dollar sign before \"Yearly Income - Person\", \"Total Debt\", \"Per Capita Income - Zipcode\"\n",
    "* Create the following features:\n",
    "    1. Retired: Yes if current age > retirement age\n",
    "    2. $Person\\ Location\\ Income\\ ratio = \\frac{(Yearly\\ Income\\ -\\ Person)}{(User\\ Location\\ Income + 0.01)}$\n",
    "    3. $Person\\ Income\\ toDebt = \\frac{(Yearly\\ Income\\ -\\ Person)}{(Total\\ Debt + 0.01)}$\n",
    "    4. $Location\\ Income\\ toDebt = \\frac{(User\\ Location\\ Income)}{(Total\\ Debt + 0.01)}$  \n",
    "* These variables are created because they can possibly representing the income level and financial pressure of users, which can be associated with fraudulent transaction"
   ]
  },
  {
   "cell_type": "code",
   "execution_count": 3,
   "id": "64ed7ff3",
   "metadata": {
    "execution": {
     "iopub.execute_input": "2024-07-03T09:32:11.987922Z",
     "iopub.status.busy": "2024-07-03T09:32:11.987498Z",
     "iopub.status.idle": "2024-07-03T09:32:12.044811Z",
     "shell.execute_reply": "2024-07-03T09:32:12.043624Z"
    },
    "papermill": {
     "duration": 0.075533,
     "end_time": "2024-07-03T09:32:12.047644",
     "exception": false,
     "start_time": "2024-07-03T09:32:11.972111",
     "status": "completed"
    },
    "tags": []
   },
   "outputs": [
    {
     "data": {
      "text/html": [
       "<div>\n",
       "<style scoped>\n",
       "    .dataframe tbody tr th:only-of-type {\n",
       "        vertical-align: middle;\n",
       "    }\n",
       "\n",
       "    .dataframe tbody tr th {\n",
       "        vertical-align: top;\n",
       "    }\n",
       "\n",
       "    .dataframe thead th {\n",
       "        text-align: right;\n",
       "    }\n",
       "</style>\n",
       "<table border=\"1\" class=\"dataframe\">\n",
       "  <thead>\n",
       "    <tr style=\"text-align: right;\">\n",
       "      <th></th>\n",
       "      <th>User</th>\n",
       "      <th>Gender</th>\n",
       "      <th>Current Age</th>\n",
       "      <th>Retired</th>\n",
       "      <th>User_Location_Income</th>\n",
       "      <th>Yearly Income - Person</th>\n",
       "      <th>Total Debt</th>\n",
       "      <th>Num Credit Cards</th>\n",
       "      <th>Person_Location_Income_ratio</th>\n",
       "      <th>Person_Income_toDebt</th>\n",
       "      <th>Location_Income_toDebt</th>\n",
       "    </tr>\n",
       "  </thead>\n",
       "  <tbody>\n",
       "    <tr>\n",
       "      <th>0</th>\n",
       "      <td>0</td>\n",
       "      <td>Female</td>\n",
       "      <td>53</td>\n",
       "      <td>No</td>\n",
       "      <td>29278.0</td>\n",
       "      <td>59696.0</td>\n",
       "      <td>127613.0</td>\n",
       "      <td>5</td>\n",
       "      <td>2.038936</td>\n",
       "      <td>0.467789</td>\n",
       "      <td>0.229428</td>\n",
       "    </tr>\n",
       "    <tr>\n",
       "      <th>1</th>\n",
       "      <td>1</td>\n",
       "      <td>Female</td>\n",
       "      <td>53</td>\n",
       "      <td>No</td>\n",
       "      <td>37891.0</td>\n",
       "      <td>77254.0</td>\n",
       "      <td>191349.0</td>\n",
       "      <td>5</td>\n",
       "      <td>2.038848</td>\n",
       "      <td>0.403733</td>\n",
       "      <td>0.198020</td>\n",
       "    </tr>\n",
       "    <tr>\n",
       "      <th>2</th>\n",
       "      <td>2</td>\n",
       "      <td>Female</td>\n",
       "      <td>81</td>\n",
       "      <td>Yes</td>\n",
       "      <td>22681.0</td>\n",
       "      <td>33483.0</td>\n",
       "      <td>196.0</td>\n",
       "      <td>5</td>\n",
       "      <td>1.476257</td>\n",
       "      <td>170.822917</td>\n",
       "      <td>115.713484</td>\n",
       "    </tr>\n",
       "    <tr>\n",
       "      <th>3</th>\n",
       "      <td>3</td>\n",
       "      <td>Female</td>\n",
       "      <td>63</td>\n",
       "      <td>No</td>\n",
       "      <td>163145.0</td>\n",
       "      <td>249925.0</td>\n",
       "      <td>202328.0</td>\n",
       "      <td>4</td>\n",
       "      <td>1.531919</td>\n",
       "      <td>1.235247</td>\n",
       "      <td>0.806339</td>\n",
       "    </tr>\n",
       "    <tr>\n",
       "      <th>4</th>\n",
       "      <td>4</td>\n",
       "      <td>Male</td>\n",
       "      <td>43</td>\n",
       "      <td>No</td>\n",
       "      <td>53797.0</td>\n",
       "      <td>109687.0</td>\n",
       "      <td>183855.0</td>\n",
       "      <td>1</td>\n",
       "      <td>2.038905</td>\n",
       "      <td>0.596595</td>\n",
       "      <td>0.292606</td>\n",
       "    </tr>\n",
       "  </tbody>\n",
       "</table>\n",
       "</div>"
      ],
      "text/plain": [
       "   User  Gender  Current Age Retired  User_Location_Income  \\\n",
       "0     0  Female           53      No               29278.0   \n",
       "1     1  Female           53      No               37891.0   \n",
       "2     2  Female           81     Yes               22681.0   \n",
       "3     3  Female           63      No              163145.0   \n",
       "4     4    Male           43      No               53797.0   \n",
       "\n",
       "   Yearly Income - Person  Total Debt  Num Credit Cards  \\\n",
       "0                 59696.0    127613.0                 5   \n",
       "1                 77254.0    191349.0                 5   \n",
       "2                 33483.0       196.0                 5   \n",
       "3                249925.0    202328.0                 4   \n",
       "4                109687.0    183855.0                 1   \n",
       "\n",
       "   Person_Location_Income_ratio  Person_Income_toDebt  Location_Income_toDebt  \n",
       "0                      2.038936              0.467789                0.229428  \n",
       "1                      2.038848              0.403733                0.198020  \n",
       "2                      1.476257            170.822917              115.713484  \n",
       "3                      1.531919              1.235247                0.806339  \n",
       "4                      2.038905              0.596595                0.292606  "
      ]
     },
     "execution_count": 3,
     "metadata": {},
     "output_type": "execute_result"
    }
   ],
   "source": [
    "## Data preprocessing for user\n",
    "user[\"User\"] = range(2000) # create User ID to join with 'card'\n",
    "\n",
    "## Remove the dollar signs\n",
    "user[\"Yearly Income - Person\"] = user[\"Yearly Income - Person\"].str.replace(\"$\", \"\").astype(float)\n",
    "user[\"Total Debt\"] = user[\"Total Debt\"].str.replace(\"$\", \"\").astype(float)\n",
    "user[\"User_Location_Income\"] = user[\"Per Capita Income - Zipcode\"].str.replace(\"$\", \"\").astype(float)\n",
    "\n",
    "## Define new variable indicating users retirement status\n",
    "user['Retired'] = 'No'\n",
    "user.loc[user['Current Age'] > user['Retirement Age'], 'Retired'] = 'Yes'\n",
    "\n",
    "## Define variables that are the ratio of their income, debt, and the income level at their location\n",
    "user['Person_Location_Income_ratio'] = user[\"Yearly Income - Person\"]/(user[\"User_Location_Income\"] + 0.01)\n",
    "user['Person_Income_toDebt'] = user[\"Yearly Income - Person\"]/(user[\"Total Debt\"] + 0.01)\n",
    "user['Location_Income_toDebt'] = user[\"User_Location_Income\"]/(user[\"Total Debt\"] + 0.01)\n",
    "\n",
    "## Select variables use for further analysis\n",
    "user = user[['User', 'Gender', \"Current Age\", \"Retired\", \"User_Location_Income\", 'Yearly Income - Person', \"Total Debt\", \"Num Credit Cards\", 'Person_Location_Income_ratio','Person_Income_toDebt','Location_Income_toDebt']]\n",
    "\n",
    "## Take a look at the data\n",
    "user.head()"
   ]
  },
  {
   "cell_type": "markdown",
   "id": "074cfe2b",
   "metadata": {
    "papermill": {
     "duration": 0.0125,
     "end_time": "2024-07-03T09:32:12.073010",
     "exception": false,
     "start_time": "2024-07-03T09:32:12.060510",
     "status": "completed"
    },
    "tags": []
   },
   "source": [
    "### Card Information\n",
    "* Create index \"User_Card\" \n",
    "* Join with user information"
   ]
  },
  {
   "cell_type": "code",
   "execution_count": 4,
   "id": "a24623c7",
   "metadata": {
    "execution": {
     "iopub.execute_input": "2024-07-03T09:32:12.101755Z",
     "iopub.status.busy": "2024-07-03T09:32:12.100476Z",
     "iopub.status.idle": "2024-07-03T09:32:12.157881Z",
     "shell.execute_reply": "2024-07-03T09:32:12.156584Z"
    },
    "papermill": {
     "duration": 0.074255,
     "end_time": "2024-07-03T09:32:12.160342",
     "exception": false,
     "start_time": "2024-07-03T09:32:12.086087",
     "status": "completed"
    },
    "tags": []
   },
   "outputs": [
    {
     "data": {
      "text/html": [
       "<div>\n",
       "<style scoped>\n",
       "    .dataframe tbody tr th:only-of-type {\n",
       "        vertical-align: middle;\n",
       "    }\n",
       "\n",
       "    .dataframe tbody tr th {\n",
       "        vertical-align: top;\n",
       "    }\n",
       "\n",
       "    .dataframe thead th {\n",
       "        text-align: right;\n",
       "    }\n",
       "</style>\n",
       "<table border=\"1\" class=\"dataframe\">\n",
       "  <thead>\n",
       "    <tr style=\"text-align: right;\">\n",
       "      <th></th>\n",
       "      <th>User_Card</th>\n",
       "      <th>Card Brand</th>\n",
       "      <th>Card Type</th>\n",
       "      <th>Credit Limit</th>\n",
       "      <th>Gender</th>\n",
       "      <th>Current Age</th>\n",
       "      <th>Retired</th>\n",
       "      <th>User_Location_Income</th>\n",
       "      <th>Yearly Income - Person</th>\n",
       "      <th>Total Debt</th>\n",
       "      <th>Num Credit Cards</th>\n",
       "      <th>Person_Location_Income_ratio</th>\n",
       "      <th>Person_Income_toDebt</th>\n",
       "      <th>Location_Income_toDebt</th>\n",
       "    </tr>\n",
       "  </thead>\n",
       "  <tbody>\n",
       "    <tr>\n",
       "      <th>0</th>\n",
       "      <td>0_0</td>\n",
       "      <td>Visa</td>\n",
       "      <td>Debit</td>\n",
       "      <td>24295.0</td>\n",
       "      <td>Female</td>\n",
       "      <td>53</td>\n",
       "      <td>No</td>\n",
       "      <td>29278.0</td>\n",
       "      <td>59696.0</td>\n",
       "      <td>127613.0</td>\n",
       "      <td>5</td>\n",
       "      <td>2.038936</td>\n",
       "      <td>0.467789</td>\n",
       "      <td>0.229428</td>\n",
       "    </tr>\n",
       "    <tr>\n",
       "      <th>1</th>\n",
       "      <td>0_1</td>\n",
       "      <td>Visa</td>\n",
       "      <td>Debit</td>\n",
       "      <td>21968.0</td>\n",
       "      <td>Female</td>\n",
       "      <td>53</td>\n",
       "      <td>No</td>\n",
       "      <td>29278.0</td>\n",
       "      <td>59696.0</td>\n",
       "      <td>127613.0</td>\n",
       "      <td>5</td>\n",
       "      <td>2.038936</td>\n",
       "      <td>0.467789</td>\n",
       "      <td>0.229428</td>\n",
       "    </tr>\n",
       "    <tr>\n",
       "      <th>2</th>\n",
       "      <td>0_2</td>\n",
       "      <td>Visa</td>\n",
       "      <td>Debit</td>\n",
       "      <td>46414.0</td>\n",
       "      <td>Female</td>\n",
       "      <td>53</td>\n",
       "      <td>No</td>\n",
       "      <td>29278.0</td>\n",
       "      <td>59696.0</td>\n",
       "      <td>127613.0</td>\n",
       "      <td>5</td>\n",
       "      <td>2.038936</td>\n",
       "      <td>0.467789</td>\n",
       "      <td>0.229428</td>\n",
       "    </tr>\n",
       "    <tr>\n",
       "      <th>3</th>\n",
       "      <td>0_3</td>\n",
       "      <td>Visa</td>\n",
       "      <td>Credit</td>\n",
       "      <td>12400.0</td>\n",
       "      <td>Female</td>\n",
       "      <td>53</td>\n",
       "      <td>No</td>\n",
       "      <td>29278.0</td>\n",
       "      <td>59696.0</td>\n",
       "      <td>127613.0</td>\n",
       "      <td>5</td>\n",
       "      <td>2.038936</td>\n",
       "      <td>0.467789</td>\n",
       "      <td>0.229428</td>\n",
       "    </tr>\n",
       "    <tr>\n",
       "      <th>4</th>\n",
       "      <td>0_4</td>\n",
       "      <td>Mastercard</td>\n",
       "      <td>Debit (Prepaid)</td>\n",
       "      <td>28.0</td>\n",
       "      <td>Female</td>\n",
       "      <td>53</td>\n",
       "      <td>No</td>\n",
       "      <td>29278.0</td>\n",
       "      <td>59696.0</td>\n",
       "      <td>127613.0</td>\n",
       "      <td>5</td>\n",
       "      <td>2.038936</td>\n",
       "      <td>0.467789</td>\n",
       "      <td>0.229428</td>\n",
       "    </tr>\n",
       "  </tbody>\n",
       "</table>\n",
       "</div>"
      ],
      "text/plain": [
       "  User_Card  Card Brand        Card Type  Credit Limit  Gender  Current Age  \\\n",
       "0       0_0        Visa            Debit       24295.0  Female           53   \n",
       "1       0_1        Visa            Debit       21968.0  Female           53   \n",
       "2       0_2        Visa            Debit       46414.0  Female           53   \n",
       "3       0_3        Visa           Credit       12400.0  Female           53   \n",
       "4       0_4  Mastercard  Debit (Prepaid)          28.0  Female           53   \n",
       "\n",
       "  Retired  User_Location_Income  Yearly Income - Person  Total Debt  \\\n",
       "0      No               29278.0                 59696.0    127613.0   \n",
       "1      No               29278.0                 59696.0    127613.0   \n",
       "2      No               29278.0                 59696.0    127613.0   \n",
       "3      No               29278.0                 59696.0    127613.0   \n",
       "4      No               29278.0                 59696.0    127613.0   \n",
       "\n",
       "   Num Credit Cards  Person_Location_Income_ratio  Person_Income_toDebt  \\\n",
       "0                 5                      2.038936              0.467789   \n",
       "1                 5                      2.038936              0.467789   \n",
       "2                 5                      2.038936              0.467789   \n",
       "3                 5                      2.038936              0.467789   \n",
       "4                 5                      2.038936              0.467789   \n",
       "\n",
       "   Location_Income_toDebt  \n",
       "0                0.229428  \n",
       "1                0.229428  \n",
       "2                0.229428  \n",
       "3                0.229428  \n",
       "4                0.229428  "
      ]
     },
     "execution_count": 4,
     "metadata": {},
     "output_type": "execute_result"
    }
   ],
   "source": [
    "## Data preprocessing for cards\n",
    "card[\"User_Card\"] = card['User'].astype(str) + '_' + card['CARD INDEX'].astype(str) ## Create card id to join with transaction data\n",
    "\n",
    "## Remove the dollor sign\n",
    "card[\"Credit Limit\"] = card[\"Credit Limit\"].str.replace(\"$\", \"\").astype(float)\n",
    "\n",
    "## Select variables of interest\n",
    "card = card[[\"User_Card\", \"User\", 'Card Brand', \"Card Type\", \"Credit Limit\"]]\n",
    "\n",
    "## Left join with 'user'\n",
    "card = card.merge(user, on='User', how='left')\n",
    "card = card.drop(columns=['User'])\n",
    "\n",
    "## Take a look\n",
    "card.head()"
   ]
  },
  {
   "cell_type": "markdown",
   "id": "684328f4",
   "metadata": {
    "papermill": {
     "duration": 0.013022,
     "end_time": "2024-07-03T09:32:12.187266",
     "exception": false,
     "start_time": "2024-07-03T09:32:12.174244",
     "status": "completed"
    },
    "tags": []
   },
   "source": [
    "### Transaction Data\n",
    "* Join with card and user information\n",
    "* Remove the dollar sign before \"Amount\" and remove data with negative transaction amount\n",
    "* Remove columns such as errors, merchant name, these columns are either too many missing values or hard to interpret\n",
    "* Create Day of the week\n",
    "* Create Time of the day (when the transaction occur, separating a day into 8 periods)\n",
    "    * Midnight (23-2), Early Morning (2-5), Morning (5-8), Late Morning (8-11), Noon (11-14), Afternoon (14-17), Evening (17-20), Late Night (20-23)\n",
    "* Create The last digit of tranaction amount"
   ]
  },
  {
   "cell_type": "code",
   "execution_count": 5,
   "id": "4e004d85",
   "metadata": {
    "execution": {
     "iopub.execute_input": "2024-07-03T09:32:12.215386Z",
     "iopub.status.busy": "2024-07-03T09:32:12.214962Z",
     "iopub.status.idle": "2024-07-03T09:33:38.336104Z",
     "shell.execute_reply": "2024-07-03T09:33:38.334851Z"
    },
    "papermill": {
     "duration": 86.151638,
     "end_time": "2024-07-03T09:33:38.352141",
     "exception": false,
     "start_time": "2024-07-03T09:32:12.200503",
     "status": "completed"
    },
    "tags": []
   },
   "outputs": [
    {
     "data": {
      "text/html": [
       "<div>\n",
       "<style scoped>\n",
       "    .dataframe tbody tr th:only-of-type {\n",
       "        vertical-align: middle;\n",
       "    }\n",
       "\n",
       "    .dataframe tbody tr th {\n",
       "        vertical-align: top;\n",
       "    }\n",
       "\n",
       "    .dataframe thead th {\n",
       "        text-align: right;\n",
       "    }\n",
       "</style>\n",
       "<table border=\"1\" class=\"dataframe\">\n",
       "  <thead>\n",
       "    <tr style=\"text-align: right;\">\n",
       "      <th></th>\n",
       "      <th>Year</th>\n",
       "      <th>Month</th>\n",
       "      <th>Day</th>\n",
       "      <th>Time</th>\n",
       "      <th>Amount</th>\n",
       "      <th>Use Chip</th>\n",
       "      <th>Merchant City</th>\n",
       "      <th>Is Fraud?</th>\n",
       "      <th>Card Brand</th>\n",
       "      <th>Card Type</th>\n",
       "      <th>...</th>\n",
       "      <th>Gender</th>\n",
       "      <th>Current Age</th>\n",
       "      <th>Retired</th>\n",
       "      <th>User_Location_Income</th>\n",
       "      <th>Yearly Income - Person</th>\n",
       "      <th>Total Debt</th>\n",
       "      <th>Num Credit Cards</th>\n",
       "      <th>Person_Location_Income_ratio</th>\n",
       "      <th>Person_Income_toDebt</th>\n",
       "      <th>Location_Income_toDebt</th>\n",
       "    </tr>\n",
       "  </thead>\n",
       "  <tbody>\n",
       "    <tr>\n",
       "      <th>0</th>\n",
       "      <td>2002</td>\n",
       "      <td>9</td>\n",
       "      <td>1</td>\n",
       "      <td>06:21</td>\n",
       "      <td>134.09</td>\n",
       "      <td>Swipe Transaction</td>\n",
       "      <td>La Verne</td>\n",
       "      <td>No</td>\n",
       "      <td>Visa</td>\n",
       "      <td>Debit</td>\n",
       "      <td>...</td>\n",
       "      <td>Female</td>\n",
       "      <td>53</td>\n",
       "      <td>No</td>\n",
       "      <td>29278.0</td>\n",
       "      <td>59696.0</td>\n",
       "      <td>127613.0</td>\n",
       "      <td>5</td>\n",
       "      <td>2.038936</td>\n",
       "      <td>0.467789</td>\n",
       "      <td>0.229428</td>\n",
       "    </tr>\n",
       "    <tr>\n",
       "      <th>1</th>\n",
       "      <td>2002</td>\n",
       "      <td>9</td>\n",
       "      <td>1</td>\n",
       "      <td>06:42</td>\n",
       "      <td>38.48</td>\n",
       "      <td>Swipe Transaction</td>\n",
       "      <td>Monterey Park</td>\n",
       "      <td>No</td>\n",
       "      <td>Visa</td>\n",
       "      <td>Debit</td>\n",
       "      <td>...</td>\n",
       "      <td>Female</td>\n",
       "      <td>53</td>\n",
       "      <td>No</td>\n",
       "      <td>29278.0</td>\n",
       "      <td>59696.0</td>\n",
       "      <td>127613.0</td>\n",
       "      <td>5</td>\n",
       "      <td>2.038936</td>\n",
       "      <td>0.467789</td>\n",
       "      <td>0.229428</td>\n",
       "    </tr>\n",
       "    <tr>\n",
       "      <th>2</th>\n",
       "      <td>2002</td>\n",
       "      <td>9</td>\n",
       "      <td>2</td>\n",
       "      <td>06:22</td>\n",
       "      <td>120.34</td>\n",
       "      <td>Swipe Transaction</td>\n",
       "      <td>Monterey Park</td>\n",
       "      <td>No</td>\n",
       "      <td>Visa</td>\n",
       "      <td>Debit</td>\n",
       "      <td>...</td>\n",
       "      <td>Female</td>\n",
       "      <td>53</td>\n",
       "      <td>No</td>\n",
       "      <td>29278.0</td>\n",
       "      <td>59696.0</td>\n",
       "      <td>127613.0</td>\n",
       "      <td>5</td>\n",
       "      <td>2.038936</td>\n",
       "      <td>0.467789</td>\n",
       "      <td>0.229428</td>\n",
       "    </tr>\n",
       "    <tr>\n",
       "      <th>3</th>\n",
       "      <td>2002</td>\n",
       "      <td>9</td>\n",
       "      <td>2</td>\n",
       "      <td>17:45</td>\n",
       "      <td>128.95</td>\n",
       "      <td>Swipe Transaction</td>\n",
       "      <td>Monterey Park</td>\n",
       "      <td>No</td>\n",
       "      <td>Visa</td>\n",
       "      <td>Debit</td>\n",
       "      <td>...</td>\n",
       "      <td>Female</td>\n",
       "      <td>53</td>\n",
       "      <td>No</td>\n",
       "      <td>29278.0</td>\n",
       "      <td>59696.0</td>\n",
       "      <td>127613.0</td>\n",
       "      <td>5</td>\n",
       "      <td>2.038936</td>\n",
       "      <td>0.467789</td>\n",
       "      <td>0.229428</td>\n",
       "    </tr>\n",
       "    <tr>\n",
       "      <th>4</th>\n",
       "      <td>2002</td>\n",
       "      <td>9</td>\n",
       "      <td>3</td>\n",
       "      <td>06:23</td>\n",
       "      <td>104.71</td>\n",
       "      <td>Swipe Transaction</td>\n",
       "      <td>La Verne</td>\n",
       "      <td>No</td>\n",
       "      <td>Visa</td>\n",
       "      <td>Debit</td>\n",
       "      <td>...</td>\n",
       "      <td>Female</td>\n",
       "      <td>53</td>\n",
       "      <td>No</td>\n",
       "      <td>29278.0</td>\n",
       "      <td>59696.0</td>\n",
       "      <td>127613.0</td>\n",
       "      <td>5</td>\n",
       "      <td>2.038936</td>\n",
       "      <td>0.467789</td>\n",
       "      <td>0.229428</td>\n",
       "    </tr>\n",
       "  </tbody>\n",
       "</table>\n",
       "<p>5 rows × 21 columns</p>\n",
       "</div>"
      ],
      "text/plain": [
       "   Year  Month  Day   Time  Amount           Use Chip  Merchant City  \\\n",
       "0  2002      9    1  06:21  134.09  Swipe Transaction       La Verne   \n",
       "1  2002      9    1  06:42   38.48  Swipe Transaction  Monterey Park   \n",
       "2  2002      9    2  06:22  120.34  Swipe Transaction  Monterey Park   \n",
       "3  2002      9    2  17:45  128.95  Swipe Transaction  Monterey Park   \n",
       "4  2002      9    3  06:23  104.71  Swipe Transaction       La Verne   \n",
       "\n",
       "  Is Fraud? Card Brand Card Type  ...  Gender Current Age  Retired  \\\n",
       "0        No       Visa     Debit  ...  Female          53       No   \n",
       "1        No       Visa     Debit  ...  Female          53       No   \n",
       "2        No       Visa     Debit  ...  Female          53       No   \n",
       "3        No       Visa     Debit  ...  Female          53       No   \n",
       "4        No       Visa     Debit  ...  Female          53       No   \n",
       "\n",
       "  User_Location_Income  Yearly Income - Person  Total Debt  Num Credit Cards  \\\n",
       "0              29278.0                 59696.0    127613.0                 5   \n",
       "1              29278.0                 59696.0    127613.0                 5   \n",
       "2              29278.0                 59696.0    127613.0                 5   \n",
       "3              29278.0                 59696.0    127613.0                 5   \n",
       "4              29278.0                 59696.0    127613.0                 5   \n",
       "\n",
       "   Person_Location_Income_ratio  Person_Income_toDebt  Location_Income_toDebt  \n",
       "0                      2.038936              0.467789                0.229428  \n",
       "1                      2.038936              0.467789                0.229428  \n",
       "2                      2.038936              0.467789                0.229428  \n",
       "3                      2.038936              0.467789                0.229428  \n",
       "4                      2.038936              0.467789                0.229428  \n",
       "\n",
       "[5 rows x 21 columns]"
      ]
     },
     "execution_count": 5,
     "metadata": {},
     "output_type": "execute_result"
    }
   ],
   "source": [
    "## Create the 'User_Card' index to join with credit card information\n",
    "df[\"User_Card\"] = df['User'].astype(str) + '_' + df['Card'].astype(str)\n",
    "\n",
    "# Remove the dollar sign\n",
    "df[\"Amount\"] = df[\"Amount\"].str.replace(\"$\", \"\").astype(float)\n",
    "\n",
    "## Keep data with positive amount\n",
    "df = df[df['Amount'] > 0]\n",
    "df = df.merge(card, on='User_Card', how='left')\n",
    "\n",
    "## Remove columns that will not be used\n",
    "df = df.drop(columns=['User', 'Card', 'User_Card', \"Errors?\", \"Merchant Name\", \"Merchant State\", \"Zip\", 'MCC'])\n",
    "df.head()"
   ]
  },
  {
   "cell_type": "code",
   "execution_count": 6,
   "id": "fb8814ba",
   "metadata": {
    "execution": {
     "iopub.execute_input": "2024-07-03T09:33:38.381258Z",
     "iopub.status.busy": "2024-07-03T09:33:38.380871Z",
     "iopub.status.idle": "2024-07-03T09:35:54.627016Z",
     "shell.execute_reply": "2024-07-03T09:35:54.620998Z"
    },
    "papermill": {
     "duration": 136.326561,
     "end_time": "2024-07-03T09:35:54.692383",
     "exception": false,
     "start_time": "2024-07-03T09:33:38.365822",
     "status": "completed"
    },
    "tags": []
   },
   "outputs": [
    {
     "data": {
      "text/html": [
       "<div>\n",
       "<style scoped>\n",
       "    .dataframe tbody tr th:only-of-type {\n",
       "        vertical-align: middle;\n",
       "    }\n",
       "\n",
       "    .dataframe tbody tr th {\n",
       "        vertical-align: top;\n",
       "    }\n",
       "\n",
       "    .dataframe thead th {\n",
       "        text-align: right;\n",
       "    }\n",
       "</style>\n",
       "<table border=\"1\" class=\"dataframe\">\n",
       "  <thead>\n",
       "    <tr style=\"text-align: right;\">\n",
       "      <th></th>\n",
       "      <th>Year</th>\n",
       "      <th>Month</th>\n",
       "      <th>Day</th>\n",
       "      <th>Amount</th>\n",
       "      <th>Use Chip</th>\n",
       "      <th>Merchant City</th>\n",
       "      <th>Is Fraud?</th>\n",
       "      <th>Card Brand</th>\n",
       "      <th>Card Type</th>\n",
       "      <th>Credit Limit</th>\n",
       "      <th>...</th>\n",
       "      <th>User_Location_Income</th>\n",
       "      <th>Yearly Income - Person</th>\n",
       "      <th>Total Debt</th>\n",
       "      <th>Num Credit Cards</th>\n",
       "      <th>Person_Location_Income_ratio</th>\n",
       "      <th>Person_Income_toDebt</th>\n",
       "      <th>Location_Income_toDebt</th>\n",
       "      <th>Weekday</th>\n",
       "      <th>Time_of_Day</th>\n",
       "      <th>last_digit</th>\n",
       "    </tr>\n",
       "  </thead>\n",
       "  <tbody>\n",
       "    <tr>\n",
       "      <th>0</th>\n",
       "      <td>2002</td>\n",
       "      <td>9</td>\n",
       "      <td>1</td>\n",
       "      <td>134.09</td>\n",
       "      <td>Swipe Transaction</td>\n",
       "      <td>La Verne</td>\n",
       "      <td>No</td>\n",
       "      <td>Visa</td>\n",
       "      <td>Debit</td>\n",
       "      <td>24295.0</td>\n",
       "      <td>...</td>\n",
       "      <td>29278.0</td>\n",
       "      <td>59696.0</td>\n",
       "      <td>127613.0</td>\n",
       "      <td>5</td>\n",
       "      <td>2.038936</td>\n",
       "      <td>0.467789</td>\n",
       "      <td>0.229428</td>\n",
       "      <td>Sunday</td>\n",
       "      <td>Morning</td>\n",
       "      <td>9</td>\n",
       "    </tr>\n",
       "    <tr>\n",
       "      <th>1</th>\n",
       "      <td>2002</td>\n",
       "      <td>9</td>\n",
       "      <td>1</td>\n",
       "      <td>38.48</td>\n",
       "      <td>Swipe Transaction</td>\n",
       "      <td>Monterey Park</td>\n",
       "      <td>No</td>\n",
       "      <td>Visa</td>\n",
       "      <td>Debit</td>\n",
       "      <td>24295.0</td>\n",
       "      <td>...</td>\n",
       "      <td>29278.0</td>\n",
       "      <td>59696.0</td>\n",
       "      <td>127613.0</td>\n",
       "      <td>5</td>\n",
       "      <td>2.038936</td>\n",
       "      <td>0.467789</td>\n",
       "      <td>0.229428</td>\n",
       "      <td>Sunday</td>\n",
       "      <td>Morning</td>\n",
       "      <td>8</td>\n",
       "    </tr>\n",
       "    <tr>\n",
       "      <th>2</th>\n",
       "      <td>2002</td>\n",
       "      <td>9</td>\n",
       "      <td>2</td>\n",
       "      <td>120.34</td>\n",
       "      <td>Swipe Transaction</td>\n",
       "      <td>Monterey Park</td>\n",
       "      <td>No</td>\n",
       "      <td>Visa</td>\n",
       "      <td>Debit</td>\n",
       "      <td>24295.0</td>\n",
       "      <td>...</td>\n",
       "      <td>29278.0</td>\n",
       "      <td>59696.0</td>\n",
       "      <td>127613.0</td>\n",
       "      <td>5</td>\n",
       "      <td>2.038936</td>\n",
       "      <td>0.467789</td>\n",
       "      <td>0.229428</td>\n",
       "      <td>Monday</td>\n",
       "      <td>Morning</td>\n",
       "      <td>4</td>\n",
       "    </tr>\n",
       "    <tr>\n",
       "      <th>3</th>\n",
       "      <td>2002</td>\n",
       "      <td>9</td>\n",
       "      <td>2</td>\n",
       "      <td>128.95</td>\n",
       "      <td>Swipe Transaction</td>\n",
       "      <td>Monterey Park</td>\n",
       "      <td>No</td>\n",
       "      <td>Visa</td>\n",
       "      <td>Debit</td>\n",
       "      <td>24295.0</td>\n",
       "      <td>...</td>\n",
       "      <td>29278.0</td>\n",
       "      <td>59696.0</td>\n",
       "      <td>127613.0</td>\n",
       "      <td>5</td>\n",
       "      <td>2.038936</td>\n",
       "      <td>0.467789</td>\n",
       "      <td>0.229428</td>\n",
       "      <td>Monday</td>\n",
       "      <td>Evening</td>\n",
       "      <td>5</td>\n",
       "    </tr>\n",
       "    <tr>\n",
       "      <th>4</th>\n",
       "      <td>2002</td>\n",
       "      <td>9</td>\n",
       "      <td>3</td>\n",
       "      <td>104.71</td>\n",
       "      <td>Swipe Transaction</td>\n",
       "      <td>La Verne</td>\n",
       "      <td>No</td>\n",
       "      <td>Visa</td>\n",
       "      <td>Debit</td>\n",
       "      <td>24295.0</td>\n",
       "      <td>...</td>\n",
       "      <td>29278.0</td>\n",
       "      <td>59696.0</td>\n",
       "      <td>127613.0</td>\n",
       "      <td>5</td>\n",
       "      <td>2.038936</td>\n",
       "      <td>0.467789</td>\n",
       "      <td>0.229428</td>\n",
       "      <td>Tuesday</td>\n",
       "      <td>Morning</td>\n",
       "      <td>1</td>\n",
       "    </tr>\n",
       "    <tr>\n",
       "      <th>5</th>\n",
       "      <td>2002</td>\n",
       "      <td>9</td>\n",
       "      <td>3</td>\n",
       "      <td>86.19</td>\n",
       "      <td>Swipe Transaction</td>\n",
       "      <td>Monterey Park</td>\n",
       "      <td>No</td>\n",
       "      <td>Visa</td>\n",
       "      <td>Debit</td>\n",
       "      <td>24295.0</td>\n",
       "      <td>...</td>\n",
       "      <td>29278.0</td>\n",
       "      <td>59696.0</td>\n",
       "      <td>127613.0</td>\n",
       "      <td>5</td>\n",
       "      <td>2.038936</td>\n",
       "      <td>0.467789</td>\n",
       "      <td>0.229428</td>\n",
       "      <td>Tuesday</td>\n",
       "      <td>Noon</td>\n",
       "      <td>9</td>\n",
       "    </tr>\n",
       "    <tr>\n",
       "      <th>6</th>\n",
       "      <td>2002</td>\n",
       "      <td>9</td>\n",
       "      <td>4</td>\n",
       "      <td>93.84</td>\n",
       "      <td>Swipe Transaction</td>\n",
       "      <td>Monterey Park</td>\n",
       "      <td>No</td>\n",
       "      <td>Visa</td>\n",
       "      <td>Debit</td>\n",
       "      <td>24295.0</td>\n",
       "      <td>...</td>\n",
       "      <td>29278.0</td>\n",
       "      <td>59696.0</td>\n",
       "      <td>127613.0</td>\n",
       "      <td>5</td>\n",
       "      <td>2.038936</td>\n",
       "      <td>0.467789</td>\n",
       "      <td>0.229428</td>\n",
       "      <td>Wednesday</td>\n",
       "      <td>Morning</td>\n",
       "      <td>4</td>\n",
       "    </tr>\n",
       "    <tr>\n",
       "      <th>7</th>\n",
       "      <td>2002</td>\n",
       "      <td>9</td>\n",
       "      <td>4</td>\n",
       "      <td>123.50</td>\n",
       "      <td>Swipe Transaction</td>\n",
       "      <td>Monterey Park</td>\n",
       "      <td>No</td>\n",
       "      <td>Visa</td>\n",
       "      <td>Debit</td>\n",
       "      <td>24295.0</td>\n",
       "      <td>...</td>\n",
       "      <td>29278.0</td>\n",
       "      <td>59696.0</td>\n",
       "      <td>127613.0</td>\n",
       "      <td>5</td>\n",
       "      <td>2.038936</td>\n",
       "      <td>0.467789</td>\n",
       "      <td>0.229428</td>\n",
       "      <td>Wednesday</td>\n",
       "      <td>Morning</td>\n",
       "      <td>5</td>\n",
       "    </tr>\n",
       "    <tr>\n",
       "      <th>8</th>\n",
       "      <td>2002</td>\n",
       "      <td>9</td>\n",
       "      <td>5</td>\n",
       "      <td>61.72</td>\n",
       "      <td>Swipe Transaction</td>\n",
       "      <td>Monterey Park</td>\n",
       "      <td>No</td>\n",
       "      <td>Visa</td>\n",
       "      <td>Debit</td>\n",
       "      <td>24295.0</td>\n",
       "      <td>...</td>\n",
       "      <td>29278.0</td>\n",
       "      <td>59696.0</td>\n",
       "      <td>127613.0</td>\n",
       "      <td>5</td>\n",
       "      <td>2.038936</td>\n",
       "      <td>0.467789</td>\n",
       "      <td>0.229428</td>\n",
       "      <td>Thursday</td>\n",
       "      <td>Morning</td>\n",
       "      <td>2</td>\n",
       "    </tr>\n",
       "    <tr>\n",
       "      <th>9</th>\n",
       "      <td>2002</td>\n",
       "      <td>9</td>\n",
       "      <td>5</td>\n",
       "      <td>57.10</td>\n",
       "      <td>Swipe Transaction</td>\n",
       "      <td>La Verne</td>\n",
       "      <td>No</td>\n",
       "      <td>Visa</td>\n",
       "      <td>Debit</td>\n",
       "      <td>24295.0</td>\n",
       "      <td>...</td>\n",
       "      <td>29278.0</td>\n",
       "      <td>59696.0</td>\n",
       "      <td>127613.0</td>\n",
       "      <td>5</td>\n",
       "      <td>2.038936</td>\n",
       "      <td>0.467789</td>\n",
       "      <td>0.229428</td>\n",
       "      <td>Thursday</td>\n",
       "      <td>Late Morning</td>\n",
       "      <td>1</td>\n",
       "    </tr>\n",
       "  </tbody>\n",
       "</table>\n",
       "<p>10 rows × 23 columns</p>\n",
       "</div>"
      ],
      "text/plain": [
       "   Year  Month  Day  Amount           Use Chip  Merchant City Is Fraud?  \\\n",
       "0  2002      9    1  134.09  Swipe Transaction       La Verne        No   \n",
       "1  2002      9    1   38.48  Swipe Transaction  Monterey Park        No   \n",
       "2  2002      9    2  120.34  Swipe Transaction  Monterey Park        No   \n",
       "3  2002      9    2  128.95  Swipe Transaction  Monterey Park        No   \n",
       "4  2002      9    3  104.71  Swipe Transaction       La Verne        No   \n",
       "5  2002      9    3   86.19  Swipe Transaction  Monterey Park        No   \n",
       "6  2002      9    4   93.84  Swipe Transaction  Monterey Park        No   \n",
       "7  2002      9    4  123.50  Swipe Transaction  Monterey Park        No   \n",
       "8  2002      9    5   61.72  Swipe Transaction  Monterey Park        No   \n",
       "9  2002      9    5   57.10  Swipe Transaction       La Verne        No   \n",
       "\n",
       "  Card Brand Card Type  Credit Limit  ... User_Location_Income  \\\n",
       "0       Visa     Debit       24295.0  ...              29278.0   \n",
       "1       Visa     Debit       24295.0  ...              29278.0   \n",
       "2       Visa     Debit       24295.0  ...              29278.0   \n",
       "3       Visa     Debit       24295.0  ...              29278.0   \n",
       "4       Visa     Debit       24295.0  ...              29278.0   \n",
       "5       Visa     Debit       24295.0  ...              29278.0   \n",
       "6       Visa     Debit       24295.0  ...              29278.0   \n",
       "7       Visa     Debit       24295.0  ...              29278.0   \n",
       "8       Visa     Debit       24295.0  ...              29278.0   \n",
       "9       Visa     Debit       24295.0  ...              29278.0   \n",
       "\n",
       "   Yearly Income - Person Total Debt  Num Credit Cards  \\\n",
       "0                 59696.0   127613.0                 5   \n",
       "1                 59696.0   127613.0                 5   \n",
       "2                 59696.0   127613.0                 5   \n",
       "3                 59696.0   127613.0                 5   \n",
       "4                 59696.0   127613.0                 5   \n",
       "5                 59696.0   127613.0                 5   \n",
       "6                 59696.0   127613.0                 5   \n",
       "7                 59696.0   127613.0                 5   \n",
       "8                 59696.0   127613.0                 5   \n",
       "9                 59696.0   127613.0                 5   \n",
       "\n",
       "   Person_Location_Income_ratio  Person_Income_toDebt  Location_Income_toDebt  \\\n",
       "0                      2.038936              0.467789                0.229428   \n",
       "1                      2.038936              0.467789                0.229428   \n",
       "2                      2.038936              0.467789                0.229428   \n",
       "3                      2.038936              0.467789                0.229428   \n",
       "4                      2.038936              0.467789                0.229428   \n",
       "5                      2.038936              0.467789                0.229428   \n",
       "6                      2.038936              0.467789                0.229428   \n",
       "7                      2.038936              0.467789                0.229428   \n",
       "8                      2.038936              0.467789                0.229428   \n",
       "9                      2.038936              0.467789                0.229428   \n",
       "\n",
       "     Weekday   Time_of_Day  last_digit  \n",
       "0     Sunday       Morning           9  \n",
       "1     Sunday       Morning           8  \n",
       "2     Monday       Morning           4  \n",
       "3     Monday       Evening           5  \n",
       "4    Tuesday       Morning           1  \n",
       "5    Tuesday          Noon           9  \n",
       "6  Wednesday       Morning           4  \n",
       "7  Wednesday       Morning           5  \n",
       "8   Thursday       Morning           2  \n",
       "9   Thursday  Late Morning           1  \n",
       "\n",
       "[10 rows x 23 columns]"
      ]
     },
     "execution_count": 6,
     "metadata": {},
     "output_type": "execute_result"
    }
   ],
   "source": [
    "## Create a column with combined transcation time\n",
    "df[\"Transcation_Time\"] = df[\"Year\"].astype(str) + '-' + df[\"Month\"].astype(str) + '-' + df[\"Day\"].astype(str) + ' ' + df[\"Time\"]\n",
    "df[\"Transcation_Time\"] = pd.to_datetime(df[\"Transcation_Time\"])\n",
    "\n",
    "## Day of the weel\n",
    "df[\"Weekday\"] = df[\"Transcation_Time\"].dt.day_name()\n",
    "\n",
    "## Split the time of day into 8 different periods based on hour\n",
    "df['Time_of_Day'] = ''\n",
    "df.loc[(df['Transcation_Time'].dt.hour >= 23) | (df['Transcation_Time'].dt.hour < 2), 'Time_of_Day'] = 'Midnight'\n",
    "df.loc[(df['Transcation_Time'].dt.hour >= 2) & (df['Transcation_Time'].dt.hour < 5), 'Time_of_Day'] = 'Early Morning'\n",
    "df.loc[(df['Transcation_Time'].dt.hour >= 5) & (df['Transcation_Time'].dt.hour < 8), 'Time_of_Day'] = 'Morning'\n",
    "df.loc[(df['Transcation_Time'].dt.hour >= 8) & (df['Transcation_Time'].dt.hour < 11), 'Time_of_Day'] = 'Late Morning'\n",
    "df.loc[(df['Transcation_Time'].dt.hour >= 11) & (df['Transcation_Time'].dt.hour < 14), 'Time_of_Day'] = 'Noon'\n",
    "df.loc[(df['Transcation_Time'].dt.hour >= 14) & (df['Transcation_Time'].dt.hour < 17), 'Time_of_Day'] = 'Afternoon'\n",
    "df.loc[(df['Transcation_Time'].dt.hour >= 17) & (df['Transcation_Time'].dt.hour < 20), 'Time_of_Day'] = 'Evening'\n",
    "df.loc[(df['Transcation_Time'].dt.hour >= 20) & (df['Transcation_Time'].dt.hour < 23), 'Time_of_Day'] = 'Late Night'\n",
    "\n",
    "## The last digit of the transaction amount can be a trait of fraud\n",
    "df['last_digit'] = df['Amount'].astype(str).str[-1]\n",
    "\n",
    "## Remove columns that will not be used\n",
    "df = df.drop(columns=[\"Time\", \"Transcation_Time\"])\n",
    "\n",
    "## Show what the dataframe looks like after all the steps\n",
    "df.head(10)"
   ]
  },
  {
   "cell_type": "markdown",
   "id": "f53f4080",
   "metadata": {
    "papermill": {
     "duration": 0.048532,
     "end_time": "2024-07-03T09:35:54.790121",
     "exception": false,
     "start_time": "2024-07-03T09:35:54.741589",
     "status": "completed"
    },
    "tags": []
   },
   "source": [
    "## Downsampling and Data Preprocessing\n",
    "In this section, the cleaned data will be processed by:\n",
    "1. Downsampling to 500,000 records with 5% of fraudulent transaction\n",
    "2. Transforming through one-hot encoder (for categorical variables) and scaling (for numerical variables)\n",
    "3. Spliting into training (80%) and testing (20%) sets with similar proportion of fraudulent transaction"
   ]
  },
  {
   "cell_type": "code",
   "execution_count": 7,
   "id": "972026fd",
   "metadata": {
    "execution": {
     "iopub.execute_input": "2024-07-03T09:35:54.892187Z",
     "iopub.status.busy": "2024-07-03T09:35:54.890351Z",
     "iopub.status.idle": "2024-07-03T09:35:54.910083Z",
     "shell.execute_reply": "2024-07-03T09:35:54.906901Z"
    },
    "papermill": {
     "duration": 0.079765,
     "end_time": "2024-07-03T09:35:54.919294",
     "exception": false,
     "start_time": "2024-07-03T09:35:54.839529",
     "status": "completed"
    },
    "tags": []
   },
   "outputs": [],
   "source": [
    "from sklearn.compose import make_column_selector as selector\n",
    "\n",
    "## Define a function for data preprocessing\n",
    "def data_preprocessing(X):\n",
    "    ## Separate the column by numerical or categorical\n",
    "    numerical_columns_selector = selector(dtype_exclude=object)\n",
    "    categorical_columns_selector = selector(dtype_include=object)\n",
    "    numerical_columns = numerical_columns_selector(X)\n",
    "    categorical_columns = categorical_columns_selector(X)\n",
    "    \n",
    "    ## One Hot encoding the categorical varaibles and scale the numerical ones\n",
    "    categorical_preprocessor = OneHotEncoder(handle_unknown=\"ignore\")\n",
    "    numerical_preprocessor = StandardScaler()\n",
    "    \n",
    "    preprocessor = ColumnTransformer(\n",
    "        transformers=[\n",
    "            (\"one-hot-encoder\", categorical_preprocessor, categorical_columns),\n",
    "            (\"standard_scaler\", numerical_preprocessor, numerical_columns)\n",
    "        ]\n",
    "    )\n",
    "    ## Transform the variable\n",
    "    X_preprocessed = preprocessor.fit_transform(X)\n",
    "    ## Save the feture names for variable importance\n",
    "    feature_names = preprocessor.get_feature_names_out()\n",
    "    \n",
    "    return X_preprocessed, feature_names"
   ]
  },
  {
   "cell_type": "code",
   "execution_count": 8,
   "id": "22d4417b",
   "metadata": {
    "execution": {
     "iopub.execute_input": "2024-07-03T09:35:54.963901Z",
     "iopub.status.busy": "2024-07-03T09:35:54.962851Z",
     "iopub.status.idle": "2024-07-03T09:35:54.971511Z",
     "shell.execute_reply": "2024-07-03T09:35:54.970320Z"
    },
    "papermill": {
     "duration": 0.027332,
     "end_time": "2024-07-03T09:35:54.974367",
     "exception": false,
     "start_time": "2024-07-03T09:35:54.947035",
     "status": "completed"
    },
    "tags": []
   },
   "outputs": [],
   "source": [
    "def resample_split(rsd):\n",
    "    # Calculate the desired number of fraud cases based on the desired proportion\n",
    "    desired_proportion = 0.05\n",
    "    total_samples = 500000\n",
    "    fraud_samples = int(total_samples * desired_proportion)\n",
    "    \n",
    "    # Create RandomUnderSampler with the desired sampling strategy\n",
    "    rus = RandomUnderSampler(sampling_strategy={0: total_samples - fraud_samples, 1: fraud_samples}, random_state = rsd)\n",
    "    \n",
    "    # Apply random undersampling to the original dataset\n",
    "    X_resampled, y_resampled = rus.fit_resample(X, y)\n",
    "    \n",
    "    ## Perform data preprocessing on the reampled data, and keep the feature names\n",
    "    X_preprocessed, feature_names = data_preprocessing(X_resampled)\n",
    "    \n",
    "    # Split the resampled data into train and test sets\n",
    "    X_train, X_test, y_train, y_test = train_test_split(X_preprocessed, y_resampled, test_size=0.2, stratify=y_resampled, random_state = rsd)\n",
    "    \n",
    "    return X_train, X_test, y_train, y_test"
   ]
  },
  {
   "cell_type": "code",
   "execution_count": 9,
   "id": "769a927d",
   "metadata": {
    "execution": {
     "iopub.execute_input": "2024-07-03T09:35:55.009764Z",
     "iopub.status.busy": "2024-07-03T09:35:55.009320Z",
     "iopub.status.idle": "2024-07-03T09:35:55.015602Z",
     "shell.execute_reply": "2024-07-03T09:35:55.014445Z"
    },
    "papermill": {
     "duration": 0.026742,
     "end_time": "2024-07-03T09:35:55.018325",
     "exception": false,
     "start_time": "2024-07-03T09:35:54.991583",
     "status": "completed"
    },
    "tags": []
   },
   "outputs": [],
   "source": [
    "## Select columns that will be used for model construction\n",
    "col_formd = [\"Merchant City\", \"Gender\", \"Current Age\", 'Card Brand', \"Card Type\", \"Credit Limit\", \"Amount\", \"Use Chip\", \"Year\", \"Month\", \"Retired\", \"Person_Location_Income_ratio\", \"Person_Income_toDebt\", \"Location_Income_toDebt\", \"Weekday\", \"Time_of_Day\", \"last_digit\"]"
   ]
  },
  {
   "cell_type": "code",
   "execution_count": 10,
   "id": "9de64a58",
   "metadata": {
    "execution": {
     "iopub.execute_input": "2024-07-03T09:35:55.052321Z",
     "iopub.status.busy": "2024-07-03T09:35:55.051938Z",
     "iopub.status.idle": "2024-07-03T09:36:24.080765Z",
     "shell.execute_reply": "2024-07-03T09:36:24.079201Z"
    },
    "papermill": {
     "duration": 29.051131,
     "end_time": "2024-07-03T09:36:24.085577",
     "exception": false,
     "start_time": "2024-07-03T09:35:55.034446",
     "status": "completed"
    },
    "tags": []
   },
   "outputs": [
    {
     "data": {
      "text/plain": [
       "28619"
      ]
     },
     "execution_count": 10,
     "metadata": {},
     "output_type": "execute_result"
    }
   ],
   "source": [
    "# Split the dataset into features (X) and target variable (y)\n",
    "X = df[col_formd]\n",
    "y = df['Is Fraud?'].apply(lambda x: 1 if x == 'Yes' else 0)\n",
    "y.sum()"
   ]
  },
  {
   "cell_type": "code",
   "execution_count": 11,
   "id": "8306769b",
   "metadata": {
    "execution": {
     "iopub.execute_input": "2024-07-03T09:36:24.118756Z",
     "iopub.status.busy": "2024-07-03T09:36:24.118285Z",
     "iopub.status.idle": "2024-07-03T09:36:24.143884Z",
     "shell.execute_reply": "2024-07-03T09:36:24.142646Z"
    },
    "papermill": {
     "duration": 0.04477,
     "end_time": "2024-07-03T09:36:24.146513",
     "exception": false,
     "start_time": "2024-07-03T09:36:24.101743",
     "status": "completed"
    },
    "tags": []
   },
   "outputs": [
    {
     "data": {
      "text/html": [
       "<div>\n",
       "<style scoped>\n",
       "    .dataframe tbody tr th:only-of-type {\n",
       "        vertical-align: middle;\n",
       "    }\n",
       "\n",
       "    .dataframe tbody tr th {\n",
       "        vertical-align: top;\n",
       "    }\n",
       "\n",
       "    .dataframe thead th {\n",
       "        text-align: right;\n",
       "    }\n",
       "</style>\n",
       "<table border=\"1\" class=\"dataframe\">\n",
       "  <thead>\n",
       "    <tr style=\"text-align: right;\">\n",
       "      <th></th>\n",
       "      <th>Merchant City</th>\n",
       "      <th>Gender</th>\n",
       "      <th>Current Age</th>\n",
       "      <th>Card Brand</th>\n",
       "      <th>Card Type</th>\n",
       "      <th>Credit Limit</th>\n",
       "      <th>Amount</th>\n",
       "      <th>Use Chip</th>\n",
       "      <th>Year</th>\n",
       "      <th>Month</th>\n",
       "      <th>Retired</th>\n",
       "      <th>Person_Location_Income_ratio</th>\n",
       "      <th>Person_Income_toDebt</th>\n",
       "      <th>Location_Income_toDebt</th>\n",
       "      <th>Weekday</th>\n",
       "      <th>Time_of_Day</th>\n",
       "      <th>last_digit</th>\n",
       "    </tr>\n",
       "  </thead>\n",
       "  <tbody>\n",
       "    <tr>\n",
       "      <th>0</th>\n",
       "      <td>La Verne</td>\n",
       "      <td>Female</td>\n",
       "      <td>53</td>\n",
       "      <td>Visa</td>\n",
       "      <td>Debit</td>\n",
       "      <td>24295.0</td>\n",
       "      <td>134.09</td>\n",
       "      <td>Swipe Transaction</td>\n",
       "      <td>2002</td>\n",
       "      <td>9</td>\n",
       "      <td>No</td>\n",
       "      <td>2.038936</td>\n",
       "      <td>0.467789</td>\n",
       "      <td>0.229428</td>\n",
       "      <td>Sunday</td>\n",
       "      <td>Morning</td>\n",
       "      <td>9</td>\n",
       "    </tr>\n",
       "    <tr>\n",
       "      <th>1</th>\n",
       "      <td>Monterey Park</td>\n",
       "      <td>Female</td>\n",
       "      <td>53</td>\n",
       "      <td>Visa</td>\n",
       "      <td>Debit</td>\n",
       "      <td>24295.0</td>\n",
       "      <td>38.48</td>\n",
       "      <td>Swipe Transaction</td>\n",
       "      <td>2002</td>\n",
       "      <td>9</td>\n",
       "      <td>No</td>\n",
       "      <td>2.038936</td>\n",
       "      <td>0.467789</td>\n",
       "      <td>0.229428</td>\n",
       "      <td>Sunday</td>\n",
       "      <td>Morning</td>\n",
       "      <td>8</td>\n",
       "    </tr>\n",
       "    <tr>\n",
       "      <th>2</th>\n",
       "      <td>Monterey Park</td>\n",
       "      <td>Female</td>\n",
       "      <td>53</td>\n",
       "      <td>Visa</td>\n",
       "      <td>Debit</td>\n",
       "      <td>24295.0</td>\n",
       "      <td>120.34</td>\n",
       "      <td>Swipe Transaction</td>\n",
       "      <td>2002</td>\n",
       "      <td>9</td>\n",
       "      <td>No</td>\n",
       "      <td>2.038936</td>\n",
       "      <td>0.467789</td>\n",
       "      <td>0.229428</td>\n",
       "      <td>Monday</td>\n",
       "      <td>Morning</td>\n",
       "      <td>4</td>\n",
       "    </tr>\n",
       "    <tr>\n",
       "      <th>3</th>\n",
       "      <td>Monterey Park</td>\n",
       "      <td>Female</td>\n",
       "      <td>53</td>\n",
       "      <td>Visa</td>\n",
       "      <td>Debit</td>\n",
       "      <td>24295.0</td>\n",
       "      <td>128.95</td>\n",
       "      <td>Swipe Transaction</td>\n",
       "      <td>2002</td>\n",
       "      <td>9</td>\n",
       "      <td>No</td>\n",
       "      <td>2.038936</td>\n",
       "      <td>0.467789</td>\n",
       "      <td>0.229428</td>\n",
       "      <td>Monday</td>\n",
       "      <td>Evening</td>\n",
       "      <td>5</td>\n",
       "    </tr>\n",
       "    <tr>\n",
       "      <th>4</th>\n",
       "      <td>La Verne</td>\n",
       "      <td>Female</td>\n",
       "      <td>53</td>\n",
       "      <td>Visa</td>\n",
       "      <td>Debit</td>\n",
       "      <td>24295.0</td>\n",
       "      <td>104.71</td>\n",
       "      <td>Swipe Transaction</td>\n",
       "      <td>2002</td>\n",
       "      <td>9</td>\n",
       "      <td>No</td>\n",
       "      <td>2.038936</td>\n",
       "      <td>0.467789</td>\n",
       "      <td>0.229428</td>\n",
       "      <td>Tuesday</td>\n",
       "      <td>Morning</td>\n",
       "      <td>1</td>\n",
       "    </tr>\n",
       "  </tbody>\n",
       "</table>\n",
       "</div>"
      ],
      "text/plain": [
       "   Merchant City  Gender  Current Age Card Brand Card Type  Credit Limit  \\\n",
       "0       La Verne  Female           53       Visa     Debit       24295.0   \n",
       "1  Monterey Park  Female           53       Visa     Debit       24295.0   \n",
       "2  Monterey Park  Female           53       Visa     Debit       24295.0   \n",
       "3  Monterey Park  Female           53       Visa     Debit       24295.0   \n",
       "4       La Verne  Female           53       Visa     Debit       24295.0   \n",
       "\n",
       "   Amount           Use Chip  Year  Month Retired  \\\n",
       "0  134.09  Swipe Transaction  2002      9      No   \n",
       "1   38.48  Swipe Transaction  2002      9      No   \n",
       "2  120.34  Swipe Transaction  2002      9      No   \n",
       "3  128.95  Swipe Transaction  2002      9      No   \n",
       "4  104.71  Swipe Transaction  2002      9      No   \n",
       "\n",
       "   Person_Location_Income_ratio  Person_Income_toDebt  Location_Income_toDebt  \\\n",
       "0                      2.038936              0.467789                0.229428   \n",
       "1                      2.038936              0.467789                0.229428   \n",
       "2                      2.038936              0.467789                0.229428   \n",
       "3                      2.038936              0.467789                0.229428   \n",
       "4                      2.038936              0.467789                0.229428   \n",
       "\n",
       "   Weekday Time_of_Day last_digit  \n",
       "0   Sunday     Morning          9  \n",
       "1   Sunday     Morning          8  \n",
       "2   Monday     Morning          4  \n",
       "3   Monday     Evening          5  \n",
       "4  Tuesday     Morning          1  "
      ]
     },
     "execution_count": 11,
     "metadata": {},
     "output_type": "execute_result"
    }
   ],
   "source": [
    "X.head()"
   ]
  },
  {
   "cell_type": "code",
   "execution_count": 12,
   "id": "80584528",
   "metadata": {
    "execution": {
     "iopub.execute_input": "2024-07-03T09:36:24.178561Z",
     "iopub.status.busy": "2024-07-03T09:36:24.178115Z",
     "iopub.status.idle": "2024-07-03T09:36:24.187065Z",
     "shell.execute_reply": "2024-07-03T09:36:24.185861Z"
    },
    "papermill": {
     "duration": 0.027458,
     "end_time": "2024-07-03T09:36:24.189556",
     "exception": false,
     "start_time": "2024-07-03T09:36:24.162098",
     "status": "completed"
    },
    "tags": []
   },
   "outputs": [
    {
     "data": {
      "text/plain": [
       "0    0\n",
       "1    0\n",
       "2    0\n",
       "3    0\n",
       "4    0\n",
       "Name: Is Fraud?, dtype: int64"
      ]
     },
     "execution_count": 12,
     "metadata": {},
     "output_type": "execute_result"
    }
   ],
   "source": [
    "y.head()"
   ]
  },
  {
   "cell_type": "code",
   "execution_count": 13,
   "id": "aa250623",
   "metadata": {
    "execution": {
     "iopub.execute_input": "2024-07-03T09:36:24.221546Z",
     "iopub.status.busy": "2024-07-03T09:36:24.221098Z",
     "iopub.status.idle": "2024-07-03T09:42:22.868613Z",
     "shell.execute_reply": "2024-07-03T09:42:22.867184Z"
    },
    "papermill": {
     "duration": 358.667056,
     "end_time": "2024-07-03T09:42:22.871758",
     "exception": false,
     "start_time": "2024-07-03T09:36:24.204702",
     "status": "completed"
    },
    "tags": []
   },
   "outputs": [],
   "source": [
    "## Assign seed for each repetitions\n",
    "sd_list = [1234, 3456, 4567, 6789, 7890, 1111, 2222, 3333, 4444, 5555, 6666, 7777, 8888, 9999, 1010, 2020, 3030, 4040, 5050, 6060, 7070, 8080, 9090, 8765, 4321, 9054, 3388, 3360, 3596, 1998]\n",
    "\n",
    "for rsd in sd_list:\n",
    "    X_train, X_test, y_train, y_test = resample_split(rsd)\n",
    "    "
   ]
  },
  {
   "cell_type": "markdown",
   "id": "ebd48f93",
   "metadata": {
    "papermill": {
     "duration": 0.014637,
     "end_time": "2024-07-03T09:42:22.901824",
     "exception": false,
     "start_time": "2024-07-03T09:42:22.887187",
     "status": "completed"
    },
    "tags": []
   },
   "source": [
    "# Logistic Regression"
   ]
  },
  {
   "cell_type": "code",
   "execution_count": 14,
   "id": "2a2b83cb",
   "metadata": {
    "execution": {
     "iopub.execute_input": "2024-07-03T09:42:22.933724Z",
     "iopub.status.busy": "2024-07-03T09:42:22.932894Z",
     "iopub.status.idle": "2024-07-03T09:42:22.938620Z",
     "shell.execute_reply": "2024-07-03T09:42:22.937471Z"
    },
    "papermill": {
     "duration": 0.024458,
     "end_time": "2024-07-03T09:42:22.941095",
     "exception": false,
     "start_time": "2024-07-03T09:42:22.916637",
     "status": "completed"
    },
    "tags": []
   },
   "outputs": [],
   "source": [
    "results=dict()"
   ]
  },
  {
   "cell_type": "code",
   "execution_count": 15,
   "id": "314b0e13",
   "metadata": {
    "execution": {
     "iopub.execute_input": "2024-07-03T09:42:22.973648Z",
     "iopub.status.busy": "2024-07-03T09:42:22.972644Z",
     "iopub.status.idle": "2024-07-03T09:42:28.513265Z",
     "shell.execute_reply": "2024-07-03T09:42:28.512012Z"
    },
    "papermill": {
     "duration": 5.560171,
     "end_time": "2024-07-03T09:42:28.516152",
     "exception": false,
     "start_time": "2024-07-03T09:42:22.955981",
     "status": "completed"
    },
    "tags": []
   },
   "outputs": [
    {
     "name": "stdout",
     "output_type": "stream",
     "text": [
      "Logistic Regression Results:\n",
      "Accuracy: 0.96281\n",
      "Precision: 0.8184982595723521\n",
      "Recall: 0.3292\n",
      "F1 Score: 0.4695478533732706\n",
      "MCC: 0.5051419727375662\n",
      "AUC: 0.9420566484210526\n",
      "{'LogisticRegression': {'Accuracy': 0.96281, 'Precision': 0.8184982595723521, 'Recall': 0.3292, 'F1 Score': 0.4695478533732706, 'MCC': 0.5051419727375662, 'AUC': 0.9420566484210526}}\n"
     ]
    }
   ],
   "source": [
    "from sklearn.linear_model import LogisticRegression\n",
    "from sklearn.metrics import accuracy_score, precision_score, recall_score, f1_score, roc_auc_score, matthews_corrcoef\n",
    "\n",
    "# Mendefinisikan model\n",
    "logreg = LogisticRegression()\n",
    "logreg.fit(X_train, y_train)\n",
    "\n",
    "# Membuat prediksi\n",
    "y_pred = logreg.predict(X_test)\n",
    "y_pred_proba = logreg.predict_proba(X_test)[:, 1]\n",
    "\n",
    "# Menghitung metrik evaluasi\n",
    "accuracy = accuracy_score(y_test, y_pred)\n",
    "precision = precision_score(y_test, y_pred)\n",
    "recall = recall_score(y_test, y_pred)\n",
    "f1 = f1_score(y_test, y_pred)\n",
    "mcc = matthews_corrcoef(y_test, y_pred)\n",
    "auc = roc_auc_score(y_test, y_pred_proba)\n",
    "\n",
    "# Menyimpan hasil ke dalam dictionary\n",
    "results[\"LogisticRegression\"] = {\n",
    "    'Accuracy': accuracy,\n",
    "    'Precision': precision,\n",
    "    'Recall': recall,\n",
    "    'F1 Score': f1,\n",
    "    'MCC': mcc,\n",
    "    'AUC': auc\n",
    "}\n",
    "\n",
    "# Menampilkan hasil\n",
    "print(\"Logistic Regression Results:\")\n",
    "print(f\"Accuracy: {accuracy}\")\n",
    "print(f\"Precision: {precision}\")\n",
    "print(f\"Recall: {recall}\")\n",
    "print(f\"F1 Score: {f1}\")\n",
    "print(f\"MCC: {mcc}\")\n",
    "print(f\"AUC: {auc}\")\n",
    "\n",
    "\n",
    "# Menampilkan dictionary hasil\n",
    "print(results)"
   ]
  },
  {
   "cell_type": "code",
   "execution_count": 16,
   "id": "a7612a86",
   "metadata": {
    "execution": {
     "iopub.execute_input": "2024-07-03T09:42:28.548688Z",
     "iopub.status.busy": "2024-07-03T09:42:28.548251Z",
     "iopub.status.idle": "2024-07-03T09:42:28.909477Z",
     "shell.execute_reply": "2024-07-03T09:42:28.908293Z"
    },
    "papermill": {
     "duration": 0.380501,
     "end_time": "2024-07-03T09:42:28.912026",
     "exception": false,
     "start_time": "2024-07-03T09:42:28.531525",
     "status": "completed"
    },
    "tags": []
   },
   "outputs": [
    {
     "data": {
      "text/plain": [
       "<Axes: >"
      ]
     },
     "execution_count": 16,
     "metadata": {},
     "output_type": "execute_result"
    },
    {
     "data": {
      "image/png": "[encoded data removed]",
      "text/plain": [
       "<Figure size 500x500 with 2 Axes>"
      ]
     },
     "metadata": {},
     "output_type": "display_data"
    }
   ],
   "source": [
    "from sklearn.metrics import confusion_matrix\n",
    "import seaborn as sns\n",
    "\n",
    "cf_matrix=confusion_matrix(y_test,y_pred)\n",
    "plt.figure(figsize=(5,5))\n",
    "sns.heatmap(cf_matrix,annot=True,fmt='d')"
   ]
  },
  {
   "cell_type": "code",
   "execution_count": 17,
   "id": "85b8300f",
   "metadata": {
    "execution": {
     "iopub.execute_input": "2024-07-03T09:42:28.945040Z",
     "iopub.status.busy": "2024-07-03T09:42:28.944588Z",
     "iopub.status.idle": "2024-07-03T09:42:51.691708Z",
     "shell.execute_reply": "2024-07-03T09:42:51.689769Z"
    },
    "papermill": {
     "duration": 22.767371,
     "end_time": "2024-07-03T09:42:51.694856",
     "exception": false,
     "start_time": "2024-07-03T09:42:28.927485",
     "status": "completed"
    },
    "tags": []
   },
   "outputs": [
    {
     "name": "stdout",
     "output_type": "stream",
     "text": [
      "Cross Validation Results:\n",
      "Accuracy: [0.96235  0.963125 0.962625 0.96345  0.9637  ]\n",
      "Precision: [0.81505102 0.8458498  0.83443709 0.85348226 0.84639697]\n",
      "Recall: [0.3195  0.321   0.315   0.32475 0.33475]\n",
      "F1 Score: [0.45905172 0.46538601 0.45735027 0.47048171 0.47975636]\n",
      "MCC: [0.49632937 0.50784966 0.49922074 0.51340826 0.5190129 ]\n",
      "AUC: [0.93772797 0.94129073 0.93976117 0.94283921 0.94179049]\n",
      "\n",
      "Average Accuracy: 0.96305\n",
      "Average Precision: 0.8390434269844761\n",
      "Average Recall: 0.32300000000000006\n",
      "Average F1 Score: 0.4664052150094341\n",
      "Average MCC: 0.5071641859237979\n",
      "Average AUC: 0.9406819138157895\n"
     ]
    }
   ],
   "source": [
    "from sklearn.model_selection import cross_validate\n",
    "from sklearn.metrics import make_scorer\n",
    "\n",
    "# Mendefinisikan model\n",
    "logreg = LogisticRegression()\n",
    "\n",
    "# Mendefinisikan metrik evaluasi\n",
    "scoring = {\n",
    "    'accuracy': 'accuracy',\n",
    "    'precision': make_scorer(precision_score),\n",
    "    'recall': make_scorer(recall_score),\n",
    "    'f1': make_scorer(f1_score),\n",
    "    'mcc': make_scorer(matthews_corrcoef),\n",
    "    'roc_auc': 'roc_auc'\n",
    "}\n",
    "\n",
    "# Melakukan cross-validation dan menyimpan hasilnya\n",
    "scores = cross_validate(logreg, X_train, y_train, cv=5, scoring=scoring)\n",
    "\n",
    "# Menampilkan hasil cross-validation\n",
    "print(\"Cross Validation Results:\")\n",
    "print(f\"Accuracy: {scores['test_accuracy']}\")\n",
    "print(f\"Precision: {scores['test_precision']}\")\n",
    "print(f\"Recall: {scores['test_recall']}\")\n",
    "print(f\"F1 Score: {scores['test_f1']}\")\n",
    "print(f\"MCC: {scores['test_mcc']}\")\n",
    "print(f\"AUC: {scores['test_roc_auc']}\")\n",
    "print(\"\")\n",
    "print(\"Average Accuracy:\", scores['test_accuracy'].mean())\n",
    "print(\"Average Precision:\", scores['test_precision'].mean())\n",
    "print(\"Average Recall:\", scores['test_recall'].mean())\n",
    "print(\"Average F1 Score:\", scores['test_f1'].mean())\n",
    "print(\"Average MCC:\", scores['test_mcc'].mean())\n",
    "print(\"Average AUC:\", scores['test_roc_auc'].mean())"
   ]
  },
  {
   "cell_type": "markdown",
   "id": "b62a090b",
   "metadata": {
    "papermill": {
     "duration": 0.01677,
     "end_time": "2024-07-03T09:42:51.728137",
     "exception": false,
     "start_time": "2024-07-03T09:42:51.711367",
     "status": "completed"
    },
    "tags": []
   },
   "source": [
    "# XGBoost"
   ]
  },
  {
   "cell_type": "code",
   "execution_count": 18,
   "id": "2f6e6965",
   "metadata": {
    "execution": {
     "iopub.execute_input": "2024-07-03T09:42:51.762615Z",
     "iopub.status.busy": "2024-07-03T09:42:51.762195Z",
     "iopub.status.idle": "2024-07-03T09:42:56.681963Z",
     "shell.execute_reply": "2024-07-03T09:42:56.680791Z"
    },
    "papermill": {
     "duration": 4.940795,
     "end_time": "2024-07-03T09:42:56.684901",
     "exception": false,
     "start_time": "2024-07-03T09:42:51.744106",
     "status": "completed"
    },
    "tags": []
   },
   "outputs": [
    {
     "name": "stdout",
     "output_type": "stream",
     "text": [
      "XGBClassifier Results:\n",
      "Accuracy: 0.97837\n",
      "Precision: 0.8658756770698994\n",
      "Recall: 0.6714\n",
      "F1 Score: 0.7563366002027713\n",
      "MCC: 0.7518157566346277\n",
      "AUC: 0.9843133168421052\n",
      "{'LogisticRegression': {'Accuracy': 0.96281, 'Precision': 0.8184982595723521, 'Recall': 0.3292, 'F1 Score': 0.4695478533732706, 'MCC': 0.5051419727375662, 'AUC': 0.9420566484210526}, 'XGBClassifier': {'Accuracy': 0.97837, 'Precision': 0.8658756770698994, 'Recall': 0.6714, 'F1 Score': 0.7563366002027713, 'MCC': 0.7518157566346277, 'AUC': 0.9843133168421052}}\n"
     ]
    }
   ],
   "source": [
    "import xgboost as xgb\n",
    "\n",
    "# Mendefinisikan model XGBClassifier (XGBoost)\n",
    "xgb_model = xgb.XGBClassifier()\n",
    "\n",
    "# Melatih model\n",
    "xgb_model.fit(X_train, y_train)\n",
    "\n",
    "# Membuat prediksi\n",
    "y_pred = xgb_model.predict(X_test)\n",
    "y_pred_proba = xgb_model.predict_proba(X_test)[:, 1]\n",
    "\n",
    "# Menghitung metrik evaluasi\n",
    "accuracy = accuracy_score(y_test, y_pred)\n",
    "precision = precision_score(y_test, y_pred)\n",
    "recall = recall_score(y_test, y_pred)\n",
    "f1 = f1_score(y_test, y_pred)\n",
    "mcc = matthews_corrcoef(y_test, y_pred)\n",
    "auc = roc_auc_score(y_test, y_pred_proba)\n",
    "\n",
    "# Menyimpan hasil ke dalam dictionary\n",
    "results[\"XGBClassifier\"] = {\n",
    "    'Accuracy': accuracy,\n",
    "    'Precision': precision,\n",
    "    'Recall': recall,\n",
    "    'F1 Score': f1,\n",
    "    'MCC': mcc,\n",
    "    'AUC': auc\n",
    "}\n",
    "\n",
    "# Menampilkan hasil evaluasi\n",
    "print(\"XGBClassifier Results:\")\n",
    "print(f\"Accuracy: {accuracy}\")\n",
    "print(f\"Precision: {precision}\")\n",
    "print(f\"Recall: {recall}\")\n",
    "print(f\"F1 Score: {f1}\")\n",
    "print(f\"MCC: {mcc}\")\n",
    "print(f\"AUC: {auc}\")\n",
    "\n",
    "# Menampilkan dictionary hasil\n",
    "print(results)"
   ]
  },
  {
   "cell_type": "code",
   "execution_count": 19,
   "id": "e0c054b7",
   "metadata": {
    "execution": {
     "iopub.execute_input": "2024-07-03T09:42:56.719988Z",
     "iopub.status.busy": "2024-07-03T09:42:56.719480Z",
     "iopub.status.idle": "2024-07-03T09:42:56.973759Z",
     "shell.execute_reply": "2024-07-03T09:42:56.972538Z"
    },
    "papermill": {
     "duration": 0.275453,
     "end_time": "2024-07-03T09:42:56.976526",
     "exception": false,
     "start_time": "2024-07-03T09:42:56.701073",
     "status": "completed"
    },
    "tags": []
   },
   "outputs": [
    {
     "data": {
      "text/plain": [
       "<Axes: >"
      ]
     },
     "execution_count": 19,
     "metadata": {},
     "output_type": "execute_result"
    },
    {
     "data": {
      "image/png": "[encoded data removed]",
      "text/plain": [
       "<Figure size 500x500 with 2 Axes>"
      ]
     },
     "metadata": {},
     "output_type": "display_data"
    }
   ],
   "source": [
    "cf_matrix=confusion_matrix(y_test,y_pred)\n",
    "plt.figure(figsize=(5,5))\n",
    "sns.heatmap(cf_matrix,annot=True,fmt='d')"
   ]
  },
  {
   "cell_type": "code",
   "execution_count": 20,
   "id": "1093c1a5",
   "metadata": {
    "execution": {
     "iopub.execute_input": "2024-07-03T09:42:57.011565Z",
     "iopub.status.busy": "2024-07-03T09:42:57.011151Z",
     "iopub.status.idle": "2024-07-03T09:43:17.063124Z",
     "shell.execute_reply": "2024-07-03T09:43:17.061548Z"
    },
    "papermill": {
     "duration": 20.07236,
     "end_time": "2024-07-03T09:43:17.065682",
     "exception": false,
     "start_time": "2024-07-03T09:42:56.993322",
     "status": "completed"
    },
    "tags": []
   },
   "outputs": [
    {
     "name": "stdout",
     "output_type": "stream",
     "text": [
      "Cross Validation Results:\n",
      "Accuracy: [0.97755   0.9783625 0.97715   0.97865   0.9778375]\n",
      "Precision: [0.85297886 0.87014682 0.85191186 0.87183647 0.85838429]\n",
      "Recall: [0.66575 0.66675 0.65725 0.67175 0.66675]\n",
      "F1 Score: [0.74782365 0.75498938 0.74202653 0.75882519 0.75052765]\n",
      "MCC: [0.74245941 0.75110052 0.73701291 0.75481571 0.74558693]\n",
      "AUC: [0.98125739 0.98182212 0.98258648 0.98173535 0.98122067]\n",
      "\n",
      "Average Accuracy: 0.97791\n",
      "Average Precision: 0.8610516603994267\n",
      "Average Recall: 0.66565\n",
      "Average F1 Score: 0.7508384799883221\n",
      "Average MCC: 0.7461950951152072\n",
      "Average AUC: 0.9817244009868421\n"
     ]
    }
   ],
   "source": [
    "# Mendefinisikan model XGBClassifier (XGBoost)\n",
    "xgb_model = xgb.XGBClassifier()\n",
    "\n",
    "# Mendefinisikan metrik evaluasi\n",
    "scoring = {\n",
    "    'accuracy': 'accuracy',\n",
    "    'precision': make_scorer(precision_score),\n",
    "    'recall': make_scorer(recall_score),\n",
    "    'f1': make_scorer(f1_score),\n",
    "    'mcc': make_scorer(matthews_corrcoef),\n",
    "    'roc_auc': 'roc_auc'\n",
    "}\n",
    "\n",
    "# Melakukan cross-validation dan menyimpan hasilnya\n",
    "scores = cross_validate(xgb_model, X_train, y_train, cv=5, scoring=scoring)\n",
    "\n",
    "# Menampilkan hasil cross-validation\n",
    "print(\"Cross Validation Results:\")\n",
    "print(f\"Accuracy: {scores['test_accuracy']}\")\n",
    "print(f\"Precision: {scores['test_precision']}\")\n",
    "print(f\"Recall: {scores['test_recall']}\")\n",
    "print(f\"F1 Score: {scores['test_f1']}\")\n",
    "print(f\"MCC: {scores['test_mcc']}\")\n",
    "print(f\"AUC: {scores['test_roc_auc']}\")\n",
    "print(\"\")\n",
    "print(\"Average Accuracy:\", scores['test_accuracy'].mean())\n",
    "print(\"Average Precision:\", scores['test_precision'].mean())\n",
    "print(\"Average Recall:\", scores['test_recall'].mean())\n",
    "print(\"Average F1 Score:\", scores['test_f1'].mean())\n",
    "print(\"Average MCC:\", scores['test_mcc'].mean())\n",
    "print(\"Average AUC:\", scores['test_roc_auc'].mean())"
   ]
  },
  {
   "cell_type": "markdown",
   "id": "147ef1d7",
   "metadata": {
    "papermill": {
     "duration": 0.016078,
     "end_time": "2024-07-03T09:43:17.098769",
     "exception": false,
     "start_time": "2024-07-03T09:43:17.082691",
     "status": "completed"
    },
    "tags": []
   },
   "source": [
    "# Gradient Boosting Classifier"
   ]
  },
  {
   "cell_type": "code",
   "execution_count": 21,
   "id": "87d1d9fc",
   "metadata": {
    "execution": {
     "iopub.execute_input": "2024-07-03T09:43:17.133447Z",
     "iopub.status.busy": "2024-07-03T09:43:17.133059Z",
     "iopub.status.idle": "2024-07-03T09:49:39.379650Z",
     "shell.execute_reply": "2024-07-03T09:49:39.378371Z"
    },
    "papermill": {
     "duration": 382.29013,
     "end_time": "2024-07-03T09:49:39.405424",
     "exception": false,
     "start_time": "2024-07-03T09:43:17.115294",
     "status": "completed"
    },
    "tags": []
   },
   "outputs": [
    {
     "name": "stdout",
     "output_type": "stream",
     "text": [
      "Gradient Boosting Classifier Results:\n",
      "Accuracy: 0.96991\n",
      "Precision: 0.8265004919645785\n",
      "Recall: 0.504\n",
      "F1 Score: 0.62616474096161\n",
      "MCC: 0.6318260039357578\n",
      "ROC AUC: 0.9570558705263159\n",
      "{'LogisticRegression': {'Accuracy': 0.96281, 'Precision': 0.8184982595723521, 'Recall': 0.3292, 'F1 Score': 0.4695478533732706, 'MCC': 0.5051419727375662, 'AUC': 0.9420566484210526}, 'XGBClassifier': {'Accuracy': 0.97837, 'Precision': 0.8658756770698994, 'Recall': 0.6714, 'F1 Score': 0.7563366002027713, 'MCC': 0.7518157566346277, 'AUC': 0.9843133168421052}, 'GradientBoostingClassifier': {'Accuracy': 0.96991, 'Precision': 0.8265004919645785, 'Recall': 0.504, 'F1 Score': 0.62616474096161, 'MCC': 0.6318260039357578, 'AUC': 0.9570558705263159}}\n"
     ]
    }
   ],
   "source": [
    "from sklearn.ensemble import GradientBoostingClassifier\n",
    "\n",
    "# Inisialisasi model Gradient Boosting Classifier\n",
    "gbc = GradientBoostingClassifier()\n",
    "\n",
    "# Melatih model menggunakan data training (x_train dan y_train)\n",
    "gbc.fit(X_train, y_train)\n",
    "\n",
    "# Melakukan prediksi menggunakan data testing (x_test)\n",
    "y_pred = gbc.predict(X_test)\n",
    "y_pred_proba = gbc.predict_proba(X_test)[:, 1]  # Untuk ROC AUC\n",
    "\n",
    "# Menghitung metrik evaluasi\n",
    "accuracy = accuracy_score(y_test, y_pred)\n",
    "precision = precision_score(y_test, y_pred)\n",
    "recall = recall_score(y_test, y_pred)\n",
    "f1 = f1_score(y_test, y_pred)\n",
    "mcc = matthews_corrcoef(y_test, y_pred)\n",
    "auc = roc_auc_score(y_test, y_pred_proba)\n",
    "\n",
    "# Menyimpan hasil evaluasi ke dalam dictionary model_result\n",
    "results[\"GradientBoostingClassifier\"] = {\n",
    "    'Accuracy': accuracy,\n",
    "    'Precision': precision,\n",
    "    'Recall': recall,\n",
    "    'F1 Score': f1,\n",
    "    'MCC': mcc,\n",
    "    'AUC': auc\n",
    "}\n",
    "\n",
    "# Menampilkan hasil evaluasi\n",
    "print(\"Gradient Boosting Classifier Results:\")\n",
    "print(f\"Accuracy: {accuracy}\")\n",
    "print(f\"Precision: {precision}\")\n",
    "print(f\"Recall: {recall}\")\n",
    "print(f\"F1 Score: {f1}\")\n",
    "print(f\"MCC: {mcc}\")\n",
    "print(f\"ROC AUC: {auc}\")\n",
    "\n",
    "# Menampilkan dictionary hasil\n",
    "print(results)"
   ]
  },
  {
   "cell_type": "code",
   "execution_count": 22,
   "id": "e68cf680",
   "metadata": {
    "execution": {
     "iopub.execute_input": "2024-07-03T09:49:39.546592Z",
     "iopub.status.busy": "2024-07-03T09:49:39.546179Z",
     "iopub.status.idle": "2024-07-03T09:49:39.872864Z",
     "shell.execute_reply": "2024-07-03T09:49:39.871447Z"
    },
    "papermill": {
     "duration": 0.348315,
     "end_time": "2024-07-03T09:49:39.876263",
     "exception": false,
     "start_time": "2024-07-03T09:49:39.527948",
     "status": "completed"
    },
    "tags": []
   },
   "outputs": [
    {
     "data": {
      "text/plain": [
       "<Axes: >"
      ]
     },
     "execution_count": 22,
     "metadata": {},
     "output_type": "execute_result"
    },
    {
     "data": {
      "image/png": "[encoded data removed]",
      "text/plain": [
       "<Figure size 500x500 with 2 Axes>"
      ]
     },
     "metadata": {},
     "output_type": "display_data"
    }
   ],
   "source": [
    "cf_matrix=confusion_matrix(y_test,y_pred)\n",
    "plt.figure(figsize=(5,5))\n",
    "sns.heatmap(cf_matrix,annot=True,fmt='d')"
   ]
  },
  {
   "cell_type": "code",
   "execution_count": 23,
   "id": "c35b0c7f",
   "metadata": {
    "execution": {
     "iopub.execute_input": "2024-07-03T09:49:39.918613Z",
     "iopub.status.busy": "2024-07-03T09:49:39.918200Z",
     "iopub.status.idle": "2024-07-03T10:13:36.264180Z",
     "shell.execute_reply": "2024-07-03T10:13:36.262776Z"
    },
    "papermill": {
     "duration": 1436.387287,
     "end_time": "2024-07-03T10:13:36.286743",
     "exception": false,
     "start_time": "2024-07-03T09:49:39.899456",
     "status": "completed"
    },
    "tags": []
   },
   "outputs": [
    {
     "name": "stdout",
     "output_type": "stream",
     "text": [
      "Cross Validation Results:\n",
      "Accuracy: [0.9698375 0.9702    0.9693125 0.9708125 0.9697875]\n",
      "Precision: [0.82374541 0.8273906  0.82174094 0.83313325 0.82478457]\n",
      "Recall: [0.50475 0.5105  0.49325 0.5205  0.5025 ]\n",
      "F1 Score: [0.62594947 0.6314162  0.61646618 0.64071396 0.62451453]\n",
      "MCC: [0.63115327 0.63639178 0.62286332 0.64523562 0.63013648]\n",
      "AUC: [0.95406169 0.95258878 0.95399721 0.95756074 0.95592391]\n",
      "\n",
      "Average Accuracy: 0.9699899999999999\n",
      "Average Precision: 0.8261589550964903\n",
      "Average Recall: 0.5063\n",
      "Average F1 Score: 0.6278120653194096\n",
      "Average MCC: 0.633156094395091\n",
      "Average AUC: 0.9548264664473685\n"
     ]
    }
   ],
   "source": [
    "# Mendefinisikan model Gradient Boosting Classifier (GBC)\n",
    "gbc_model = GradientBoostingClassifier()\n",
    "\n",
    "# Mendefinisikan metrik evaluasi\n",
    "scoring = {\n",
    "    'accuracy': 'accuracy',\n",
    "    'precision': make_scorer(precision_score),\n",
    "    'recall': make_scorer(recall_score),\n",
    "    'f1': make_scorer(f1_score),\n",
    "    'mcc': make_scorer(matthews_corrcoef),\n",
    "    'roc_auc': 'roc_auc'\n",
    "}\n",
    "\n",
    "# Melakukan cross-validation dan menyimpan hasilnya\n",
    "scores = cross_validate(gbc_model, X_train, y_train, cv=5, scoring=scoring)\n",
    "\n",
    "# Menampilkan hasil cross-validation\n",
    "print(\"Cross Validation Results:\")\n",
    "print(f\"Accuracy: {scores['test_accuracy']}\")\n",
    "print(f\"Precision: {scores['test_precision']}\")\n",
    "print(f\"Recall: {scores['test_recall']}\")\n",
    "print(f\"F1 Score: {scores['test_f1']}\")\n",
    "print(f\"MCC: {scores['test_mcc']}\")\n",
    "print(f\"AUC: {scores['test_roc_auc']}\")\n",
    "print(\"\")\n",
    "print(\"Average Accuracy:\", scores['test_accuracy'].mean())\n",
    "print(\"Average Precision:\", scores['test_precision'].mean())\n",
    "print(\"Average Recall:\", scores['test_recall'].mean())\n",
    "print(\"Average F1 Score:\", scores['test_f1'].mean())\n",
    "print(\"Average MCC:\", scores['test_mcc'].mean())\n",
    "print(\"Average AUC:\", scores['test_roc_auc'].mean())"
   ]
  },
  {
   "cell_type": "markdown",
   "id": "9eb581d2",
   "metadata": {
    "papermill": {
     "duration": 0.017109,
     "end_time": "2024-07-03T10:13:36.321384",
     "exception": false,
     "start_time": "2024-07-03T10:13:36.304275",
     "status": "completed"
    },
    "tags": []
   },
   "source": [
    "# Comparison of Model Accuracies"
   ]
  },
  {
   "cell_type": "code",
   "execution_count": 24,
   "id": "1a48d066",
   "metadata": {
    "execution": {
     "iopub.execute_input": "2024-07-03T10:13:36.360591Z",
     "iopub.status.busy": "2024-07-03T10:13:36.359650Z",
     "iopub.status.idle": "2024-07-03T10:13:36.377733Z",
     "shell.execute_reply": "2024-07-03T10:13:36.376477Z"
    },
    "papermill": {
     "duration": 0.040345,
     "end_time": "2024-07-03T10:13:36.380277",
     "exception": false,
     "start_time": "2024-07-03T10:13:36.339932",
     "status": "completed"
    },
    "tags": []
   },
   "outputs": [
    {
     "data": {
      "text/html": [
       "<div>\n",
       "<style scoped>\n",
       "    .dataframe tbody tr th:only-of-type {\n",
       "        vertical-align: middle;\n",
       "    }\n",
       "\n",
       "    .dataframe tbody tr th {\n",
       "        vertical-align: top;\n",
       "    }\n",
       "\n",
       "    .dataframe thead th {\n",
       "        text-align: right;\n",
       "    }\n",
       "</style>\n",
       "<table border=\"1\" class=\"dataframe\">\n",
       "  <thead>\n",
       "    <tr style=\"text-align: right;\">\n",
       "      <th></th>\n",
       "      <th>Accuracy</th>\n",
       "      <th>Precision</th>\n",
       "      <th>Recall</th>\n",
       "      <th>F1 Score</th>\n",
       "      <th>MCC</th>\n",
       "      <th>AUC</th>\n",
       "    </tr>\n",
       "  </thead>\n",
       "  <tbody>\n",
       "    <tr>\n",
       "      <th>LogisticRegression</th>\n",
       "      <td>0.96281</td>\n",
       "      <td>0.818498</td>\n",
       "      <td>0.3292</td>\n",
       "      <td>0.469548</td>\n",
       "      <td>0.505142</td>\n",
       "      <td>0.942057</td>\n",
       "    </tr>\n",
       "    <tr>\n",
       "      <th>XGBClassifier</th>\n",
       "      <td>0.97837</td>\n",
       "      <td>0.865876</td>\n",
       "      <td>0.6714</td>\n",
       "      <td>0.756337</td>\n",
       "      <td>0.751816</td>\n",
       "      <td>0.984313</td>\n",
       "    </tr>\n",
       "    <tr>\n",
       "      <th>GradientBoostingClassifier</th>\n",
       "      <td>0.96991</td>\n",
       "      <td>0.826500</td>\n",
       "      <td>0.5040</td>\n",
       "      <td>0.626165</td>\n",
       "      <td>0.631826</td>\n",
       "      <td>0.957056</td>\n",
       "    </tr>\n",
       "  </tbody>\n",
       "</table>\n",
       "</div>"
      ],
      "text/plain": [
       "                            Accuracy  Precision  Recall  F1 Score       MCC  \\\n",
       "LogisticRegression           0.96281   0.818498  0.3292  0.469548  0.505142   \n",
       "XGBClassifier                0.97837   0.865876  0.6714  0.756337  0.751816   \n",
       "GradientBoostingClassifier   0.96991   0.826500  0.5040  0.626165  0.631826   \n",
       "\n",
       "                                 AUC  \n",
       "LogisticRegression          0.942057  \n",
       "XGBClassifier               0.984313  \n",
       "GradientBoostingClassifier  0.957056  "
      ]
     },
     "execution_count": 24,
     "metadata": {},
     "output_type": "execute_result"
    }
   ],
   "source": [
    "result_df = pd.DataFrame(results).T\n",
    "result_df"
   ]
  },
  {
   "cell_type": "code",
   "execution_count": 25,
   "id": "ffca6b99",
   "metadata": {
    "execution": {
     "iopub.execute_input": "2024-07-03T10:13:36.417715Z",
     "iopub.status.busy": "2024-07-03T10:13:36.417309Z",
     "iopub.status.idle": "2024-07-03T10:13:36.646496Z",
     "shell.execute_reply": "2024-07-03T10:13:36.645345Z"
    },
    "papermill": {
     "duration": 0.251315,
     "end_time": "2024-07-03T10:13:36.649342",
     "exception": false,
     "start_time": "2024-07-03T10:13:36.398027",
     "status": "completed"
    },
    "tags": []
   },
   "outputs": [
    {
     "data": {
      "image/png": "[encoded data removed]",
      "text/plain": [
       "<Figure size 800x400 with 1 Axes>"
      ]
     },
     "metadata": {},
     "output_type": "display_data"
    }
   ],
   "source": [
    "import seaborn as sns\n",
    "import matplotlib.pyplot as plt\n",
    "\n",
    "plt.figure(figsize=(8, 4))\n",
    "sns.barplot(x=result_df.index, y=result_df['Accuracy'], palette=\"viridis\")\n",
    "plt.xlabel('Model')\n",
    "plt.ylabel('Accuracy')\n",
    "plt.title('Comparison of Model Accuracies', color = 'red',fontsize=15)\n",
    "\n",
    "# Add values above bars using Seaborn's annotate function\n",
    "for index, value in enumerate(result_df['Accuracy']):\n",
    "    plt.annotate(round(value, 4), (index, value + 0.001), ha=\"center\", color='black')\n",
    "\n",
    "plt.show()"
   ]
  },
  {
   "cell_type": "markdown",
   "id": "c4c81689",
   "metadata": {
    "papermill": {
     "duration": 0.01778,
     "end_time": "2024-07-03T10:13:36.685767",
     "exception": false,
     "start_time": "2024-07-03T10:13:36.667987",
     "status": "completed"
    },
    "tags": []
   },
   "source": [
    "## Heatmap"
   ]
  },
  {
   "cell_type": "code",
   "execution_count": 26,
   "id": "58355278",
   "metadata": {
    "execution": {
     "iopub.execute_input": "2024-07-03T10:13:36.723698Z",
     "iopub.status.busy": "2024-07-03T10:13:36.723286Z",
     "iopub.status.idle": "2024-07-03T10:13:37.086426Z",
     "shell.execute_reply": "2024-07-03T10:13:37.085135Z"
    },
    "papermill": {
     "duration": 0.385492,
     "end_time": "2024-07-03T10:13:37.089240",
     "exception": false,
     "start_time": "2024-07-03T10:13:36.703748",
     "status": "completed"
    },
    "tags": []
   },
   "outputs": [
    {
     "data": {
      "image/png": "[encoded data removed]",
      "text/plain": [
       "<Figure size 1000x800 with 2 Axes>"
      ]
     },
     "metadata": {},
     "output_type": "display_data"
    }
   ],
   "source": [
    "plt.figure(figsize=(10, 8))\n",
    "sns.heatmap(result_df, annot=True, cmap=\"YlGnBu\", fmt=\".4f\")\n",
    "plt.title('Model Evaluation Metrics Heatmap')\n",
    "plt.show()"
   ]
  },
  {
   "cell_type": "markdown",
   "id": "80ac0258",
   "metadata": {
    "papermill": {
     "duration": 0.018892,
     "end_time": "2024-07-03T10:13:37.127526",
     "exception": false,
     "start_time": "2024-07-03T10:13:37.108634",
     "status": "completed"
    },
    "tags": []
   },
   "source": [
    "## Grouped Bar Chart "
   ]
  },
  {
   "cell_type": "code",
   "execution_count": 27,
   "id": "99ee7030",
   "metadata": {
    "execution": {
     "iopub.execute_input": "2024-07-03T10:13:37.168165Z",
     "iopub.status.busy": "2024-07-03T10:13:37.167032Z",
     "iopub.status.idle": "2024-07-03T10:13:37.623242Z",
     "shell.execute_reply": "2024-07-03T10:13:37.621998Z"
    },
    "papermill": {
     "duration": 0.479277,
     "end_time": "2024-07-03T10:13:37.625869",
     "exception": false,
     "start_time": "2024-07-03T10:13:37.146592",
     "status": "completed"
    },
    "tags": []
   },
   "outputs": [
    {
     "data": {
      "image/png": "[encoded data removed]",
      "text/plain": [
       "<Figure size 1400x800 with 1 Axes>"
      ]
     },
     "metadata": {},
     "output_type": "display_data"
    }
   ],
   "source": [
    "# Mengkonversi hasil ke DataFrame dan mereset index\n",
    "result_df = pd.DataFrame(results).T.reset_index().melt(id_vars='index')\n",
    "\n",
    "# Mengatur ukuran dan palet warna\n",
    "plt.figure(figsize=(14, 8))\n",
    "sns.set_palette(\"Paired\")\n",
    "sns.barplot(x='index', y='value', hue='variable', data=result_df)\n",
    "\n",
    "# Mengatur label dan judul\n",
    "plt.xlabel('Model')\n",
    "plt.ylabel('Metric Score')\n",
    "plt.title('Model Evaluation Metrics Comparison')\n",
    "plt.legend(title='Metrics')\n",
    "plt.show()"
   ]
  },
  {
   "cell_type": "markdown",
   "id": "3d5d8ca7",
   "metadata": {
    "papermill": {
     "duration": 0.019485,
     "end_time": "2024-07-03T10:13:37.665362",
     "exception": false,
     "start_time": "2024-07-03T10:13:37.645877",
     "status": "completed"
    },
    "tags": []
   },
   "source": [
    "## Spider/Radar Chart"
   ]
  },
  {
   "cell_type": "code",
   "execution_count": 28,
   "id": "3aa6bf04",
   "metadata": {
    "execution": {
     "iopub.execute_input": "2024-07-03T10:13:37.707001Z",
     "iopub.status.busy": "2024-07-03T10:13:37.706522Z",
     "iopub.status.idle": "2024-07-03T10:13:38.214307Z",
     "shell.execute_reply": "2024-07-03T10:13:38.213231Z"
    },
    "papermill": {
     "duration": 0.533335,
     "end_time": "2024-07-03T10:13:38.218585",
     "exception": false,
     "start_time": "2024-07-03T10:13:37.685250",
     "status": "completed"
    },
    "tags": []
   },
   "outputs": [
    {
     "data": {
      "image/png": "[encoded data removed]",
      "text/plain": [
       "<Figure size 800x800 with 1 Axes>"
      ]
     },
     "metadata": {},
     "output_type": "display_data"
    }
   ],
   "source": [
    "from math import pi\n",
    "\n",
    "# Mengkonversi hasil ke DataFrame\n",
    "result_df = pd.DataFrame(results).T\n",
    "\n",
    "# Inisialisasi spider chart\n",
    "categories = list(result_df.columns)\n",
    "N = len(categories)\n",
    "\n",
    "angles = [n / float(N) * 2 * pi for n in range(N)]\n",
    "angles += angles[:1]\n",
    "\n",
    "plt.figure(figsize=(8, 8))\n",
    "\n",
    "for i, (model, metrics) in enumerate(result_df.iterrows()):\n",
    "    values = metrics.tolist()\n",
    "    values += values[:1]\n",
    "    ax = plt.subplot(1, 1, 1, polar=True)\n",
    "    ax.set_theta_offset(pi / 2)\n",
    "    ax.set_theta_direction(-1)\n",
    "\n",
    "    plt.xticks(angles[:-1], categories)\n",
    "    ax.plot(angles, values, linewidth=1, linestyle='solid', label=model)\n",
    "    ax.fill(angles, values, alpha=0.1)\n",
    "\n",
    "plt.legend(loc='upper right', bbox_to_anchor=(0.1, 0.1))\n",
    "plt.title('Model Evaluation Metrics Radar Chart')\n",
    "plt.show()"
   ]
  }
 ],
 "metadata": {
  "kaggle": {
   "accelerator": "none",
   "dataSources": [
    {
     "datasetId": 1478095,
     "sourceId": 2705785,
     "sourceType": "datasetVersion"
    }
   ],
   "dockerImageVersionId": 30698,
   "isGpuEnabled": false,
   "isInternetEnabled": false,
   "language": "python",
   "sourceType": "notebook"
  },
  "kernelspec": {
   "display_name": "Python 3",
   "language": "python",
   "name": "python3"
  },
  "language_info": {
   "codemirror_mode": {
    "name": "ipython",
    "version": 3
   },
   "file_extension": ".py",
   "mimetype": "text/x-python",
   "name": "python",
   "nbconvert_exporter": "python",
   "pygments_lexer": "ipython3",
   "version": "3.10.13"
  },
  "papermill": {
   "default_parameters": {},
   "duration": 2588.17535,
   "end_time": "2024-07-03T10:13:41.170498",
   "environment_variables": {},
   "exception": null,
   "input_path": "__notebook__.ipynb",
   "output_path": "__notebook__.ipynb",
   "parameters": {},
   "start_time": "2024-07-03T09:30:32.995148",
   "version": "2.5.0"
  }
 },
 "nbformat": 4,
 "nbformat_minor": 5
}
